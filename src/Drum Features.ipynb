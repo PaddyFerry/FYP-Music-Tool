{
 "cells": [
  {
   "cell_type": "code",
   "execution_count": 1,
   "metadata": {},
   "outputs": [],
   "source": [
    "import librosa\n",
    "import pandas as pd\n",
    "import numpy as np\n",
    "import matplotlib.pyplot as plt\n",
    "import os\n",
    "import csv"
   ]
  },
  {
   "cell_type": "code",
   "execution_count": 27,
   "metadata": {},
   "outputs": [],
   "source": [
    "header = 'filename chroma_stft rmse spectral_centroid spectral_bandwidth rolloff zero_crossing_rate'"
   ]
  },
  {
   "cell_type": "code",
   "execution_count": 28,
   "metadata": {},
   "outputs": [],
   "source": [
    "for i in range(1, 21):\n",
    "    header += f' mfcc{i}'"
   ]
  },
  {
   "cell_type": "code",
   "execution_count": 29,
   "metadata": {},
   "outputs": [],
   "source": [
    "header += ' label'\n",
    "header = header.split()"
   ]
  },
  {
   "cell_type": "code",
   "execution_count": 30,
   "metadata": {},
   "outputs": [
    {
     "name": "stdout",
     "output_type": "stream",
     "text": [
      "28\n"
     ]
    },
    {
     "data": {
      "text/plain": [
       "['filename',\n",
       " 'chroma_stft',\n",
       " 'rmse',\n",
       " 'spectral_centroid',\n",
       " 'spectral_bandwidth',\n",
       " 'rolloff',\n",
       " 'zero_crossing_rate',\n",
       " 'mfcc1',\n",
       " 'mfcc2',\n",
       " 'mfcc3',\n",
       " 'mfcc4',\n",
       " 'mfcc5',\n",
       " 'mfcc6',\n",
       " 'mfcc7',\n",
       " 'mfcc8',\n",
       " 'mfcc9',\n",
       " 'mfcc10',\n",
       " 'mfcc11',\n",
       " 'mfcc12',\n",
       " 'mfcc13',\n",
       " 'mfcc14',\n",
       " 'mfcc15',\n",
       " 'mfcc16',\n",
       " 'mfcc17',\n",
       " 'mfcc18',\n",
       " 'mfcc19',\n",
       " 'mfcc20',\n",
       " 'label']"
      ]
     },
     "execution_count": 30,
     "metadata": {},
     "output_type": "execute_result"
    }
   ],
   "source": [
    "print(len(header))\n",
    "header"
   ]
  },
  {
   "cell_type": "code",
   "execution_count": 31,
   "metadata": {},
   "outputs": [],
   "source": [
    "file = open('data.csv', 'w', newline='')\n",
    "with file:\n",
    "    writer = csv.writer(file)\n",
    "    writer.writerow(header)"
   ]
  },
  {
   "cell_type": "code",
   "execution_count": 8,
   "metadata": {},
   "outputs": [],
   "source": [
    "genres = 'Clap ClosedHat Crash Kick OpenHat Ride Snare Tom'.split()"
   ]
  },
  {
   "cell_type": "code",
   "execution_count": 37,
   "metadata": {},
   "outputs": [],
   "source": [
    "numfiles = 22354\n",
    "progress = 0\n",
    "marker = .02"
   ]
  },
  {
   "cell_type": "code",
   "execution_count": 38,
   "metadata": {
    "scrolled": true
   },
   "outputs": [
    {
     "name": "stdout",
     "output_type": "stream",
     "text": [
      "448/22354 0.0200411559452447\n",
      "Skipping Clap Ame.wav because of not a whole number of frames\n",
      "Skipping Clap ChrisLiebing.wav because of not a whole number of frames\n",
      "Skipping Clap Crystal.wav because of not a whole number of frames\n",
      "895/22354 0.04003757716739734\n",
      "1342/22354 0.06003399838954997\n",
      "1789/22354 0.0800304196117026\n",
      "2236/22354 0.10002684083385524\n",
      "Skipping desktop.ini because of \n",
      "2683/22354 0.12002326205600787\n",
      "3130/22354 0.1400196832781605\n",
      "Skipping ClosedHH Ame.wav because of not a whole number of frames\n",
      "3577/22354 0.16001610450031314\n",
      "Skipping ClosedHH Funkstorung B.wav because of not a whole number of frames\n",
      "4024/22354 0.1800125257224658\n",
      "4471/22354 0.2000089469446184\n",
      "Skipping ClosedHH Spasm 1.wav because of Input signal length=1 is too small to resample from 44100->22050\n",
      "4918/22354 0.22000536816677105\n",
      "Skipping ClosedHH TelAviv 1.wav because of not a whole number of frames\n",
      "Skipping desktop.ini because of \n",
      "5365/22354 0.2400017893889237\n",
      "5813/22354 0.2600429453341684\n",
      "6260/22354 0.280039366556321\n",
      "6707/22354 0.3000357877784737\n",
      "7154/22354 0.3200322090006263\n",
      "7601/22354 0.3400286302227789\n",
      "8048/22354 0.3600250514449316\n",
      "Skipping desktop.ini because of \n",
      "8495/22354 0.3800214726670842\n",
      "8942/22354 0.4000178938892368\n",
      "Skipping desktop.ini because of \n",
      "9389/22354 0.4200143151113895\n",
      "9836/22354 0.4400107363335421\n",
      "10283/22354 0.4600071575556947\n",
      "Skipping Kick Ame 2.wav because of not a whole number of frames\n",
      "Skipping Kick Ame 3.wav because of not a whole number of frames\n",
      "10730/22354 0.4800035787778474\n",
      "Skipping Kick Autopsy 1.wav because of not a whole number of frames\n",
      "Skipping Kick Autopsy 5.wav because of not a whole number of frames\n",
      "11178/22354 0.5000447347230921\n",
      "Skipping Kick Crysatal 2.wav because of not a whole number of frames\n",
      "11625/22354 0.5200411559452447\n",
      "Skipping Kick Fastplant 2.wav because of not a whole number of frames\n",
      "12072/22354 0.5400375771673973\n",
      "12519/22354 0.5600339983895499\n",
      "Skipping Kick MandoBeat A 1.wav because of not a whole number of frames\n",
      "Skipping Kick MandoBeat A 2.wav because of not a whole number of frames\n",
      "Skipping Kick Metamorphic 2.wav because of not a whole number of frames\n",
      "Skipping Kick Metamorphic 3.wav because of not a whole number of frames\n",
      "12966/22354 0.5800304196117027\n",
      "13413/22354 0.6000268408338553\n",
      "13860/22354 0.6200232620560079\n",
      "14307/22354 0.6400196832781605\n",
      "14754/22354 0.6600161045003131\n",
      "15201/22354 0.6800125257224657\n",
      "15648/22354 0.7000089469446185\n",
      "Skipping desktop.ini because of \n",
      "Skipping OpenHH Ame 1.wav because of not a whole number of frames\n",
      "Skipping OpenHH Ame 2.wav because of not a whole number of frames\n",
      "16095/22354 0.7200053681667711\n",
      "Skipping OpenHH Autopsy.wav because of not a whole number of frames\n",
      "16542/22354 0.7400017893889237\n",
      "Skipping OpenHH MandoBeat A.wav because of not a whole number of frames\n",
      "16990/22354 0.7600429453341684\n",
      "Skipping desktop.ini because of \n",
      "17437/22354 0.780039366556321\n",
      "17884/22354 0.8000357877784736\n",
      "18331/22354 0.8200322090006262\n",
      "Skipping desktop.ini because of \n",
      "18778/22354 0.840028630222779\n",
      "19225/22354 0.8600250514449316\n",
      "19672/22354 0.8800214726670842\n",
      "20119/22354 0.9000178938892368\n",
      "20566/22354 0.9200143151113894\n",
      "21013/22354 0.940010736333542\n"
     ]
    },
    {
     "ename": "ValueError",
     "evalue": "There aren't any elements to reflect in axis 0 of `array`",
     "output_type": "error",
     "traceback": [
      "\u001b[1;31m---------------------------------------------------------------------------\u001b[0m",
      "\u001b[1;31mValueError\u001b[0m                                Traceback (most recent call last)",
      "\u001b[1;32m<ipython-input-38-19709e5e629a>\u001b[0m in \u001b[0;36m<module>\u001b[1;34m\u001b[0m\n\u001b[0;32m      8\u001b[0m             \u001b[0mprint\u001b[0m\u001b[1;33m(\u001b[0m\u001b[1;34mf\"Skipping {filename} because of \"\u001b[0m \u001b[1;33m+\u001b[0m \u001b[0mstr\u001b[0m\u001b[1;33m(\u001b[0m\u001b[0me\u001b[0m\u001b[1;33m)\u001b[0m\u001b[1;33m)\u001b[0m\u001b[1;33m\u001b[0m\u001b[1;33m\u001b[0m\u001b[0m\n\u001b[0;32m      9\u001b[0m             \u001b[1;32mcontinue\u001b[0m\u001b[1;33m\u001b[0m\u001b[1;33m\u001b[0m\u001b[0m\n\u001b[1;32m---> 10\u001b[1;33m         \u001b[0mchroma_stft\u001b[0m \u001b[1;33m=\u001b[0m \u001b[0mlibrosa\u001b[0m\u001b[1;33m.\u001b[0m\u001b[0mfeature\u001b[0m\u001b[1;33m.\u001b[0m\u001b[0mchroma_stft\u001b[0m\u001b[1;33m(\u001b[0m\u001b[0my\u001b[0m\u001b[1;33m=\u001b[0m\u001b[0my\u001b[0m\u001b[1;33m,\u001b[0m \u001b[0msr\u001b[0m\u001b[1;33m=\u001b[0m\u001b[0msr\u001b[0m\u001b[1;33m)\u001b[0m\u001b[1;33m\u001b[0m\u001b[1;33m\u001b[0m\u001b[0m\n\u001b[0m\u001b[0;32m     11\u001b[0m         \u001b[0mrmse\u001b[0m \u001b[1;33m=\u001b[0m \u001b[0mlibrosa\u001b[0m\u001b[1;33m.\u001b[0m\u001b[0mfeature\u001b[0m\u001b[1;33m.\u001b[0m\u001b[0mrmse\u001b[0m\u001b[1;33m(\u001b[0m\u001b[0my\u001b[0m\u001b[1;33m=\u001b[0m\u001b[0my\u001b[0m\u001b[1;33m)\u001b[0m\u001b[1;33m\u001b[0m\u001b[1;33m\u001b[0m\u001b[0m\n\u001b[0;32m     12\u001b[0m         \u001b[0mspec_cent\u001b[0m \u001b[1;33m=\u001b[0m \u001b[0mlibrosa\u001b[0m\u001b[1;33m.\u001b[0m\u001b[0mfeature\u001b[0m\u001b[1;33m.\u001b[0m\u001b[0mspectral_centroid\u001b[0m\u001b[1;33m(\u001b[0m\u001b[0my\u001b[0m\u001b[1;33m=\u001b[0m\u001b[0my\u001b[0m\u001b[1;33m,\u001b[0m \u001b[0msr\u001b[0m\u001b[1;33m=\u001b[0m\u001b[0msr\u001b[0m\u001b[1;33m)\u001b[0m\u001b[1;33m\u001b[0m\u001b[1;33m\u001b[0m\u001b[0m\n",
      "\u001b[1;32mc:\\users\\p\\pycharmprojects\\2019-ca400-ferryp2\\project\\lib\\site-packages\\librosa\\feature\\spectral.py\u001b[0m in \u001b[0;36mchroma_stft\u001b[1;34m(y, sr, S, norm, n_fft, hop_length, tuning, **kwargs)\u001b[0m\n\u001b[0;32m    959\u001b[0m \u001b[1;33m\u001b[0m\u001b[0m\n\u001b[0;32m    960\u001b[0m     S, n_fft = _spectrogram(y=y, S=S, n_fft=n_fft, hop_length=hop_length,\n\u001b[1;32m--> 961\u001b[1;33m                             power=2)\n\u001b[0m\u001b[0;32m    962\u001b[0m \u001b[1;33m\u001b[0m\u001b[0m\n\u001b[0;32m    963\u001b[0m     \u001b[0mn_chroma\u001b[0m \u001b[1;33m=\u001b[0m \u001b[0mkwargs\u001b[0m\u001b[1;33m.\u001b[0m\u001b[0mget\u001b[0m\u001b[1;33m(\u001b[0m\u001b[1;34m'n_chroma'\u001b[0m\u001b[1;33m,\u001b[0m \u001b[1;36m12\u001b[0m\u001b[1;33m)\u001b[0m\u001b[1;33m\u001b[0m\u001b[1;33m\u001b[0m\u001b[0m\n",
      "\u001b[1;32mc:\\users\\p\\pycharmprojects\\2019-ca400-ferryp2\\project\\lib\\site-packages\\librosa\\core\\spectrum.py\u001b[0m in \u001b[0;36m_spectrogram\u001b[1;34m(y, S, n_fft, hop_length, power)\u001b[0m\n\u001b[0;32m   1555\u001b[0m     \u001b[1;32melse\u001b[0m\u001b[1;33m:\u001b[0m\u001b[1;33m\u001b[0m\u001b[1;33m\u001b[0m\u001b[0m\n\u001b[0;32m   1556\u001b[0m         \u001b[1;31m# Otherwise, compute a magnitude spectrogram from input\u001b[0m\u001b[1;33m\u001b[0m\u001b[1;33m\u001b[0m\u001b[1;33m\u001b[0m\u001b[0m\n\u001b[1;32m-> 1557\u001b[1;33m         \u001b[0mS\u001b[0m \u001b[1;33m=\u001b[0m \u001b[0mnp\u001b[0m\u001b[1;33m.\u001b[0m\u001b[0mabs\u001b[0m\u001b[1;33m(\u001b[0m\u001b[0mstft\u001b[0m\u001b[1;33m(\u001b[0m\u001b[0my\u001b[0m\u001b[1;33m,\u001b[0m \u001b[0mn_fft\u001b[0m\u001b[1;33m=\u001b[0m\u001b[0mn_fft\u001b[0m\u001b[1;33m,\u001b[0m \u001b[0mhop_length\u001b[0m\u001b[1;33m=\u001b[0m\u001b[0mhop_length\u001b[0m\u001b[1;33m)\u001b[0m\u001b[1;33m)\u001b[0m\u001b[1;33m**\u001b[0m\u001b[0mpower\u001b[0m\u001b[1;33m\u001b[0m\u001b[1;33m\u001b[0m\u001b[0m\n\u001b[0m\u001b[0;32m   1558\u001b[0m \u001b[1;33m\u001b[0m\u001b[0m\n\u001b[0;32m   1559\u001b[0m     \u001b[1;32mreturn\u001b[0m \u001b[0mS\u001b[0m\u001b[1;33m,\u001b[0m \u001b[0mn_fft\u001b[0m\u001b[1;33m\u001b[0m\u001b[1;33m\u001b[0m\u001b[0m\n",
      "\u001b[1;32mc:\\users\\p\\pycharmprojects\\2019-ca400-ferryp2\\project\\lib\\site-packages\\librosa\\core\\spectrum.py\u001b[0m in \u001b[0;36mstft\u001b[1;34m(y, n_fft, hop_length, win_length, window, center, dtype, pad_mode)\u001b[0m\n\u001b[0;32m    163\u001b[0m     \u001b[1;31m# Pad the time series so that frames are centered\u001b[0m\u001b[1;33m\u001b[0m\u001b[1;33m\u001b[0m\u001b[1;33m\u001b[0m\u001b[0m\n\u001b[0;32m    164\u001b[0m     \u001b[1;32mif\u001b[0m \u001b[0mcenter\u001b[0m\u001b[1;33m:\u001b[0m\u001b[1;33m\u001b[0m\u001b[1;33m\u001b[0m\u001b[0m\n\u001b[1;32m--> 165\u001b[1;33m         \u001b[0my\u001b[0m \u001b[1;33m=\u001b[0m \u001b[0mnp\u001b[0m\u001b[1;33m.\u001b[0m\u001b[0mpad\u001b[0m\u001b[1;33m(\u001b[0m\u001b[0my\u001b[0m\u001b[1;33m,\u001b[0m \u001b[0mint\u001b[0m\u001b[1;33m(\u001b[0m\u001b[0mn_fft\u001b[0m \u001b[1;33m//\u001b[0m \u001b[1;36m2\u001b[0m\u001b[1;33m)\u001b[0m\u001b[1;33m,\u001b[0m \u001b[0mmode\u001b[0m\u001b[1;33m=\u001b[0m\u001b[0mpad_mode\u001b[0m\u001b[1;33m)\u001b[0m\u001b[1;33m\u001b[0m\u001b[1;33m\u001b[0m\u001b[0m\n\u001b[0m\u001b[0;32m    166\u001b[0m \u001b[1;33m\u001b[0m\u001b[0m\n\u001b[0;32m    167\u001b[0m     \u001b[1;31m# Window the time series.\u001b[0m\u001b[1;33m\u001b[0m\u001b[1;33m\u001b[0m\u001b[1;33m\u001b[0m\u001b[0m\n",
      "\u001b[1;32mc:\\users\\p\\pycharmprojects\\2019-ca400-ferryp2\\project\\lib\\site-packages\\numpy\\lib\\arraypad.py\u001b[0m in \u001b[0;36mpad\u001b[1;34m(array, pad_width, mode, **kwargs)\u001b[0m\n\u001b[0;32m   1288\u001b[0m                 \u001b[1;32mif\u001b[0m \u001b[0mpad_before\u001b[0m \u001b[1;33m>\u001b[0m \u001b[1;36m0\u001b[0m \u001b[1;32mor\u001b[0m \u001b[0mpad_after\u001b[0m \u001b[1;33m>\u001b[0m \u001b[1;36m0\u001b[0m\u001b[1;33m:\u001b[0m\u001b[1;33m\u001b[0m\u001b[1;33m\u001b[0m\u001b[0m\n\u001b[0;32m   1289\u001b[0m                     raise ValueError(\"There aren't any elements to reflect\"\n\u001b[1;32m-> 1290\u001b[1;33m                                      \" in axis {} of `array`\".format(axis))\n\u001b[0m\u001b[0;32m   1291\u001b[0m                 \u001b[1;31m# Skip zero padding on empty axes.\u001b[0m\u001b[1;33m\u001b[0m\u001b[1;33m\u001b[0m\u001b[1;33m\u001b[0m\u001b[0m\n\u001b[0;32m   1292\u001b[0m                 \u001b[1;32mcontinue\u001b[0m\u001b[1;33m\u001b[0m\u001b[1;33m\u001b[0m\u001b[0m\n",
      "\u001b[1;31mValueError\u001b[0m: There aren't any elements to reflect in axis 0 of `array`"
     ]
    }
   ],
   "source": [
    "for g in genres:\n",
    "    for filename in os.listdir(f'./DrumData/{g}'):\n",
    "        songname = f'./DrumData/{g}/{filename}'\n",
    "        try:\n",
    "            y, sr = librosa.load(songname, mono=True)\n",
    "        except Exception as e:\n",
    "            progress += 1\n",
    "            print(f\"Skipping {filename} because of \" + str(e))\n",
    "            continue\n",
    "        chroma_stft = librosa.feature.chroma_stft(y=y, sr=sr)\n",
    "        rmse = librosa.feature.rmse(y=y)\n",
    "        spec_cent = librosa.feature.spectral_centroid(y=y, sr=sr)\n",
    "        spec_bw = librosa.feature.spectral_bandwidth(y=y, sr=sr)\n",
    "        rolloff = librosa.feature.spectral_rolloff(y=y, sr=sr)\n",
    "        zcr = librosa.feature.zero_crossing_rate(y)\n",
    "        mfcc = librosa.feature.mfcc(y=y, sr=sr)\n",
    "        filename = filename.strip().replace(\" \", \"\")\n",
    "        to_append = f'{filename} {np.mean(chroma_stft)} {np.mean(rmse)} {np.mean(spec_cent)} {np.mean(spec_bw)} {np.mean(rolloff)} {np.mean(zcr)}'    \n",
    "        for e in mfcc:\n",
    "            to_append += f' {np.mean(e)}'\n",
    "        to_append += f' {g}'\n",
    "        file = open('data.csv', 'a', newline='')\n",
    "        with file:\n",
    "            writer = csv.writer(file)\n",
    "            writer.writerow(to_append.split())\n",
    "        progress += 1\n",
    "        if progress/numfiles > marker:\n",
    "            print(f\"{progress}/{numfiles}\", progress/numfiles)\n",
    "            marker += .02\n"
   ]
  },
  {
   "cell_type": "code",
   "execution_count": 39,
   "metadata": {},
   "outputs": [
    {
     "name": "stdout",
     "output_type": "stream",
     "text": [
      "Skipping desktop.ini because of \n",
      "21460/22354 0.9600071575556948\n"
     ]
    }
   ],
   "source": [
    "g = \"Tom\"\n",
    "for filename in os.listdir(f'./DrumData/{g}'):\n",
    "        songname = f'./DrumData/{g}/{filename}'\n",
    "        try:\n",
    "            y, sr = librosa.load(songname, mono=True)\n",
    "        except Exception as e:\n",
    "            progress += 1\n",
    "            print(f\"Skipping {filename} because of \" + str(e))\n",
    "            continue\n",
    "        chroma_stft = librosa.feature.chroma_stft(y=y, sr=sr)\n",
    "        rmse = librosa.feature.rmse(y=y)\n",
    "        spec_cent = librosa.feature.spectral_centroid(y=y, sr=sr)\n",
    "        spec_bw = librosa.feature.spectral_bandwidth(y=y, sr=sr)\n",
    "        rolloff = librosa.feature.spectral_rolloff(y=y, sr=sr)\n",
    "        zcr = librosa.feature.zero_crossing_rate(y)\n",
    "        mfcc = librosa.feature.mfcc(y=y, sr=sr)\n",
    "        filename = filename.strip().replace(\" \", \"\")\n",
    "        to_append = f'{filename} {np.mean(chroma_stft)} {np.mean(rmse)} {np.mean(spec_cent)} {np.mean(spec_bw)} {np.mean(rolloff)} {np.mean(zcr)}'    \n",
    "        for e in mfcc:\n",
    "            to_append += f' {np.mean(e)}'\n",
    "        to_append += f' {g}'\n",
    "        file = open('data.csv', 'a', newline='')\n",
    "        with file:\n",
    "            writer = csv.writer(file)\n",
    "            writer.writerow(to_append.split())\n",
    "        progress += 1\n",
    "        if progress/numfiles > marker:\n",
    "            print(f\"{progress}/{numfiles}\", progress/numfiles)\n",
    "            marker += .02"
   ]
  },
  {
   "cell_type": "code",
   "execution_count": 2,
   "metadata": {},
   "outputs": [],
   "source": [
    "data = pd.read_csv('data.csv')\n",
    "# data.head()\n",
    "\n"
   ]
  },
  {
   "cell_type": "code",
   "execution_count": 3,
   "metadata": {},
   "outputs": [
    {
     "data": {
      "text/html": [
       "<div>\n",
       "<style scoped>\n",
       "    .dataframe tbody tr th:only-of-type {\n",
       "        vertical-align: middle;\n",
       "    }\n",
       "\n",
       "    .dataframe tbody tr th {\n",
       "        vertical-align: top;\n",
       "    }\n",
       "\n",
       "    .dataframe thead th {\n",
       "        text-align: right;\n",
       "    }\n",
       "</style>\n",
       "<table border=\"1\" class=\"dataframe\">\n",
       "  <thead>\n",
       "    <tr style=\"text-align: right;\">\n",
       "      <th></th>\n",
       "      <th>filename</th>\n",
       "      <th>chroma_stft</th>\n",
       "      <th>rmse</th>\n",
       "      <th>spectral_centroid</th>\n",
       "      <th>spectral_bandwidth</th>\n",
       "      <th>rolloff</th>\n",
       "      <th>zero_crossing_rate</th>\n",
       "      <th>mfcc1</th>\n",
       "      <th>mfcc2</th>\n",
       "      <th>mfcc3</th>\n",
       "      <th>...</th>\n",
       "      <th>mfcc12</th>\n",
       "      <th>mfcc13</th>\n",
       "      <th>mfcc14</th>\n",
       "      <th>mfcc15</th>\n",
       "      <th>mfcc16</th>\n",
       "      <th>mfcc17</th>\n",
       "      <th>mfcc18</th>\n",
       "      <th>mfcc19</th>\n",
       "      <th>mfcc20</th>\n",
       "      <th>label</th>\n",
       "    </tr>\n",
       "  </thead>\n",
       "  <tbody>\n",
       "    <tr>\n",
       "      <th>0</th>\n",
       "      <td>01ClapBMB.WAV</td>\n",
       "      <td>0.618883</td>\n",
       "      <td>0.119291</td>\n",
       "      <td>3065.714055</td>\n",
       "      <td>2460.566711</td>\n",
       "      <td>5862.414551</td>\n",
       "      <td>0.161784</td>\n",
       "      <td>-56.772178</td>\n",
       "      <td>48.711372</td>\n",
       "      <td>-59.552208</td>\n",
       "      <td>...</td>\n",
       "      <td>-3.123486</td>\n",
       "      <td>-7.359495</td>\n",
       "      <td>3.144433</td>\n",
       "      <td>-3.356684</td>\n",
       "      <td>4.992271</td>\n",
       "      <td>2.515457</td>\n",
       "      <td>9.465140</td>\n",
       "      <td>-0.621855</td>\n",
       "      <td>5.238568</td>\n",
       "      <td>Clap</td>\n",
       "    </tr>\n",
       "    <tr>\n",
       "      <th>1</th>\n",
       "      <td>01#03ds03.wav</td>\n",
       "      <td>0.635330</td>\n",
       "      <td>0.037196</td>\n",
       "      <td>3693.867336</td>\n",
       "      <td>2636.259493</td>\n",
       "      <td>6678.555575</td>\n",
       "      <td>0.196481</td>\n",
       "      <td>-421.383672</td>\n",
       "      <td>28.779544</td>\n",
       "      <td>-37.877411</td>\n",
       "      <td>...</td>\n",
       "      <td>-1.454617</td>\n",
       "      <td>-2.989339</td>\n",
       "      <td>1.468267</td>\n",
       "      <td>-0.738073</td>\n",
       "      <td>-2.872931</td>\n",
       "      <td>-3.265541</td>\n",
       "      <td>5.980502</td>\n",
       "      <td>-1.427013</td>\n",
       "      <td>2.857505</td>\n",
       "      <td>Clap</td>\n",
       "    </tr>\n",
       "    <tr>\n",
       "      <th>2</th>\n",
       "      <td>01#03ds04.wav</td>\n",
       "      <td>0.629891</td>\n",
       "      <td>0.046015</td>\n",
       "      <td>3590.197924</td>\n",
       "      <td>2605.403598</td>\n",
       "      <td>6587.059356</td>\n",
       "      <td>0.200886</td>\n",
       "      <td>-363.669516</td>\n",
       "      <td>25.263142</td>\n",
       "      <td>-37.137436</td>\n",
       "      <td>...</td>\n",
       "      <td>-1.929337</td>\n",
       "      <td>-1.920452</td>\n",
       "      <td>2.100165</td>\n",
       "      <td>-2.999123</td>\n",
       "      <td>-0.400314</td>\n",
       "      <td>-1.693672</td>\n",
       "      <td>3.565656</td>\n",
       "      <td>-1.433910</td>\n",
       "      <td>1.827394</td>\n",
       "      <td>Clap</td>\n",
       "    </tr>\n",
       "    <tr>\n",
       "      <th>3</th>\n",
       "      <td>02ClapBMB.WAV</td>\n",
       "      <td>0.434298</td>\n",
       "      <td>0.155422</td>\n",
       "      <td>2418.015677</td>\n",
       "      <td>2001.283210</td>\n",
       "      <td>4326.379395</td>\n",
       "      <td>0.123698</td>\n",
       "      <td>-168.246688</td>\n",
       "      <td>53.183609</td>\n",
       "      <td>-86.767207</td>\n",
       "      <td>...</td>\n",
       "      <td>5.611905</td>\n",
       "      <td>0.129062</td>\n",
       "      <td>4.257509</td>\n",
       "      <td>-0.471195</td>\n",
       "      <td>0.753118</td>\n",
       "      <td>-2.098963</td>\n",
       "      <td>4.158339</td>\n",
       "      <td>0.640163</td>\n",
       "      <td>3.054923</td>\n",
       "      <td>Clap</td>\n",
       "    </tr>\n",
       "    <tr>\n",
       "      <th>4</th>\n",
       "      <td>02.Clap.wav</td>\n",
       "      <td>0.536626</td>\n",
       "      <td>0.014460</td>\n",
       "      <td>5998.845143</td>\n",
       "      <td>3263.768485</td>\n",
       "      <td>9358.270264</td>\n",
       "      <td>0.401923</td>\n",
       "      <td>-441.632454</td>\n",
       "      <td>-10.441482</td>\n",
       "      <td>54.436183</td>\n",
       "      <td>...</td>\n",
       "      <td>4.379537</td>\n",
       "      <td>-0.004708</td>\n",
       "      <td>5.425863</td>\n",
       "      <td>3.019330</td>\n",
       "      <td>9.410884</td>\n",
       "      <td>2.498261</td>\n",
       "      <td>4.078138</td>\n",
       "      <td>0.661409</td>\n",
       "      <td>5.287163</td>\n",
       "      <td>Clap</td>\n",
       "    </tr>\n",
       "  </tbody>\n",
       "</table>\n",
       "<p>5 rows × 28 columns</p>\n",
       "</div>"
      ],
      "text/plain": [
       "        filename  chroma_stft      rmse  spectral_centroid  \\\n",
       "0  01ClapBMB.WAV     0.618883  0.119291        3065.714055   \n",
       "1  01#03ds03.wav     0.635330  0.037196        3693.867336   \n",
       "2  01#03ds04.wav     0.629891  0.046015        3590.197924   \n",
       "3  02ClapBMB.WAV     0.434298  0.155422        2418.015677   \n",
       "4    02.Clap.wav     0.536626  0.014460        5998.845143   \n",
       "\n",
       "   spectral_bandwidth      rolloff  zero_crossing_rate       mfcc1      mfcc2  \\\n",
       "0         2460.566711  5862.414551            0.161784  -56.772178  48.711372   \n",
       "1         2636.259493  6678.555575            0.196481 -421.383672  28.779544   \n",
       "2         2605.403598  6587.059356            0.200886 -363.669516  25.263142   \n",
       "3         2001.283210  4326.379395            0.123698 -168.246688  53.183609   \n",
       "4         3263.768485  9358.270264            0.401923 -441.632454 -10.441482   \n",
       "\n",
       "       mfcc3  ...    mfcc12    mfcc13    mfcc14    mfcc15    mfcc16    mfcc17  \\\n",
       "0 -59.552208  ... -3.123486 -7.359495  3.144433 -3.356684  4.992271  2.515457   \n",
       "1 -37.877411  ... -1.454617 -2.989339  1.468267 -0.738073 -2.872931 -3.265541   \n",
       "2 -37.137436  ... -1.929337 -1.920452  2.100165 -2.999123 -0.400314 -1.693672   \n",
       "3 -86.767207  ...  5.611905  0.129062  4.257509 -0.471195  0.753118 -2.098963   \n",
       "4  54.436183  ...  4.379537 -0.004708  5.425863  3.019330  9.410884  2.498261   \n",
       "\n",
       "     mfcc18    mfcc19    mfcc20  label  \n",
       "0  9.465140 -0.621855  5.238568   Clap  \n",
       "1  5.980502 -1.427013  2.857505   Clap  \n",
       "2  3.565656 -1.433910  1.827394   Clap  \n",
       "3  4.158339  0.640163  3.054923   Clap  \n",
       "4  4.078138  0.661409  5.287163   Clap  \n",
       "\n",
       "[5 rows x 28 columns]"
      ]
     },
     "execution_count": 3,
     "metadata": {},
     "output_type": "execute_result"
    }
   ],
   "source": [
    "data.head()"
   ]
  },
  {
   "cell_type": "code",
   "execution_count": 4,
   "metadata": {
    "scrolled": true
   },
   "outputs": [
    {
     "data": {
      "text/html": [
       "<div>\n",
       "<style scoped>\n",
       "    .dataframe tbody tr th:only-of-type {\n",
       "        vertical-align: middle;\n",
       "    }\n",
       "\n",
       "    .dataframe tbody tr th {\n",
       "        vertical-align: top;\n",
       "    }\n",
       "\n",
       "    .dataframe thead th {\n",
       "        text-align: right;\n",
       "    }\n",
       "</style>\n",
       "<table border=\"1\" class=\"dataframe\">\n",
       "  <thead>\n",
       "    <tr style=\"text-align: right;\">\n",
       "      <th></th>\n",
       "      <th>chroma_stft</th>\n",
       "      <th>rmse</th>\n",
       "      <th>spectral_centroid</th>\n",
       "      <th>spectral_bandwidth</th>\n",
       "      <th>rolloff</th>\n",
       "      <th>zero_crossing_rate</th>\n",
       "      <th>mfcc1</th>\n",
       "      <th>mfcc2</th>\n",
       "      <th>mfcc3</th>\n",
       "      <th>mfcc4</th>\n",
       "      <th>...</th>\n",
       "      <th>mfcc12</th>\n",
       "      <th>mfcc13</th>\n",
       "      <th>mfcc14</th>\n",
       "      <th>mfcc15</th>\n",
       "      <th>mfcc16</th>\n",
       "      <th>mfcc17</th>\n",
       "      <th>mfcc18</th>\n",
       "      <th>mfcc19</th>\n",
       "      <th>mfcc20</th>\n",
       "      <th>label</th>\n",
       "    </tr>\n",
       "  </thead>\n",
       "  <tbody>\n",
       "    <tr>\n",
       "      <th>0</th>\n",
       "      <td>0.618883</td>\n",
       "      <td>0.119291</td>\n",
       "      <td>3065.714055</td>\n",
       "      <td>2460.566711</td>\n",
       "      <td>5862.414551</td>\n",
       "      <td>0.161784</td>\n",
       "      <td>-56.772178</td>\n",
       "      <td>48.711372</td>\n",
       "      <td>-59.552208</td>\n",
       "      <td>-19.775777</td>\n",
       "      <td>...</td>\n",
       "      <td>-3.123486</td>\n",
       "      <td>-7.359495</td>\n",
       "      <td>3.144433</td>\n",
       "      <td>-3.356684</td>\n",
       "      <td>4.992271</td>\n",
       "      <td>2.515457</td>\n",
       "      <td>9.465140</td>\n",
       "      <td>-0.621855</td>\n",
       "      <td>5.238568</td>\n",
       "      <td>Clap</td>\n",
       "    </tr>\n",
       "    <tr>\n",
       "      <th>1</th>\n",
       "      <td>0.635330</td>\n",
       "      <td>0.037196</td>\n",
       "      <td>3693.867336</td>\n",
       "      <td>2636.259493</td>\n",
       "      <td>6678.555575</td>\n",
       "      <td>0.196481</td>\n",
       "      <td>-421.383672</td>\n",
       "      <td>28.779544</td>\n",
       "      <td>-37.877411</td>\n",
       "      <td>-2.279165</td>\n",
       "      <td>...</td>\n",
       "      <td>-1.454617</td>\n",
       "      <td>-2.989339</td>\n",
       "      <td>1.468267</td>\n",
       "      <td>-0.738073</td>\n",
       "      <td>-2.872931</td>\n",
       "      <td>-3.265541</td>\n",
       "      <td>5.980502</td>\n",
       "      <td>-1.427013</td>\n",
       "      <td>2.857505</td>\n",
       "      <td>Clap</td>\n",
       "    </tr>\n",
       "    <tr>\n",
       "      <th>2</th>\n",
       "      <td>0.629891</td>\n",
       "      <td>0.046015</td>\n",
       "      <td>3590.197924</td>\n",
       "      <td>2605.403598</td>\n",
       "      <td>6587.059356</td>\n",
       "      <td>0.200886</td>\n",
       "      <td>-363.669516</td>\n",
       "      <td>25.263142</td>\n",
       "      <td>-37.137436</td>\n",
       "      <td>-1.053125</td>\n",
       "      <td>...</td>\n",
       "      <td>-1.929337</td>\n",
       "      <td>-1.920452</td>\n",
       "      <td>2.100165</td>\n",
       "      <td>-2.999123</td>\n",
       "      <td>-0.400314</td>\n",
       "      <td>-1.693672</td>\n",
       "      <td>3.565656</td>\n",
       "      <td>-1.433910</td>\n",
       "      <td>1.827394</td>\n",
       "      <td>Clap</td>\n",
       "    </tr>\n",
       "    <tr>\n",
       "      <th>3</th>\n",
       "      <td>0.434298</td>\n",
       "      <td>0.155422</td>\n",
       "      <td>2418.015677</td>\n",
       "      <td>2001.283210</td>\n",
       "      <td>4326.379395</td>\n",
       "      <td>0.123698</td>\n",
       "      <td>-168.246688</td>\n",
       "      <td>53.183609</td>\n",
       "      <td>-86.767207</td>\n",
       "      <td>-43.990146</td>\n",
       "      <td>...</td>\n",
       "      <td>5.611905</td>\n",
       "      <td>0.129062</td>\n",
       "      <td>4.257509</td>\n",
       "      <td>-0.471195</td>\n",
       "      <td>0.753118</td>\n",
       "      <td>-2.098963</td>\n",
       "      <td>4.158339</td>\n",
       "      <td>0.640163</td>\n",
       "      <td>3.054923</td>\n",
       "      <td>Clap</td>\n",
       "    </tr>\n",
       "    <tr>\n",
       "      <th>4</th>\n",
       "      <td>0.536626</td>\n",
       "      <td>0.014460</td>\n",
       "      <td>5998.845143</td>\n",
       "      <td>3263.768485</td>\n",
       "      <td>9358.270264</td>\n",
       "      <td>0.401923</td>\n",
       "      <td>-441.632454</td>\n",
       "      <td>-10.441482</td>\n",
       "      <td>54.436183</td>\n",
       "      <td>7.500737</td>\n",
       "      <td>...</td>\n",
       "      <td>4.379537</td>\n",
       "      <td>-0.004708</td>\n",
       "      <td>5.425863</td>\n",
       "      <td>3.019330</td>\n",
       "      <td>9.410884</td>\n",
       "      <td>2.498261</td>\n",
       "      <td>4.078138</td>\n",
       "      <td>0.661409</td>\n",
       "      <td>5.287163</td>\n",
       "      <td>Clap</td>\n",
       "    </tr>\n",
       "  </tbody>\n",
       "</table>\n",
       "<p>5 rows × 27 columns</p>\n",
       "</div>"
      ],
      "text/plain": [
       "   chroma_stft      rmse  spectral_centroid  spectral_bandwidth      rolloff  \\\n",
       "0     0.618883  0.119291        3065.714055         2460.566711  5862.414551   \n",
       "1     0.635330  0.037196        3693.867336         2636.259493  6678.555575   \n",
       "2     0.629891  0.046015        3590.197924         2605.403598  6587.059356   \n",
       "3     0.434298  0.155422        2418.015677         2001.283210  4326.379395   \n",
       "4     0.536626  0.014460        5998.845143         3263.768485  9358.270264   \n",
       "\n",
       "   zero_crossing_rate       mfcc1      mfcc2      mfcc3      mfcc4  ...  \\\n",
       "0            0.161784  -56.772178  48.711372 -59.552208 -19.775777  ...   \n",
       "1            0.196481 -421.383672  28.779544 -37.877411  -2.279165  ...   \n",
       "2            0.200886 -363.669516  25.263142 -37.137436  -1.053125  ...   \n",
       "3            0.123698 -168.246688  53.183609 -86.767207 -43.990146  ...   \n",
       "4            0.401923 -441.632454 -10.441482  54.436183   7.500737  ...   \n",
       "\n",
       "     mfcc12    mfcc13    mfcc14    mfcc15    mfcc16    mfcc17    mfcc18  \\\n",
       "0 -3.123486 -7.359495  3.144433 -3.356684  4.992271  2.515457  9.465140   \n",
       "1 -1.454617 -2.989339  1.468267 -0.738073 -2.872931 -3.265541  5.980502   \n",
       "2 -1.929337 -1.920452  2.100165 -2.999123 -0.400314 -1.693672  3.565656   \n",
       "3  5.611905  0.129062  4.257509 -0.471195  0.753118 -2.098963  4.158339   \n",
       "4  4.379537 -0.004708  5.425863  3.019330  9.410884  2.498261  4.078138   \n",
       "\n",
       "     mfcc19    mfcc20  label  \n",
       "0 -0.621855  5.238568   Clap  \n",
       "1 -1.427013  2.857505   Clap  \n",
       "2 -1.433910  1.827394   Clap  \n",
       "3  0.640163  3.054923   Clap  \n",
       "4  0.661409  5.287163   Clap  \n",
       "\n",
       "[5 rows x 27 columns]"
      ]
     },
     "execution_count": 4,
     "metadata": {},
     "output_type": "execute_result"
    }
   ],
   "source": [
    "data = data.drop(['filename'],axis=1)\n",
    "data.head()"
   ]
  },
  {
   "cell_type": "code",
   "execution_count": 5,
   "metadata": {},
   "outputs": [],
   "source": [
    "from sklearn.model_selection import train_test_split\n",
    "from sklearn.preprocessing import LabelEncoder, StandardScaler"
   ]
  },
  {
   "cell_type": "code",
   "execution_count": 6,
   "metadata": {},
   "outputs": [],
   "source": [
    "genre_list = data.iloc[:, -1]"
   ]
  },
  {
   "cell_type": "code",
   "execution_count": 7,
   "metadata": {},
   "outputs": [],
   "source": [
    "encoder = LabelEncoder()"
   ]
  },
  {
   "cell_type": "code",
   "execution_count": 8,
   "metadata": {},
   "outputs": [
    {
     "name": "stdout",
     "output_type": "stream",
     "text": [
      "[0 0 0 ... 7 7 7]\n"
     ]
    }
   ],
   "source": [
    "y = encoder.fit_transform(genre_list)\n",
    "print(y)"
   ]
  },
  {
   "cell_type": "code",
   "execution_count": 9,
   "metadata": {},
   "outputs": [],
   "source": [
    "scaler = StandardScaler()\n",
    "X = scaler.fit_transform(np.array(data.iloc[:, :-1], dtype = float))"
   ]
  },
  {
   "cell_type": "code",
   "execution_count": 10,
   "metadata": {},
   "outputs": [],
   "source": [
    "X_train, X_test, y_train, y_test = train_test_split(X, y, test_size=0.2)"
   ]
  },
  {
   "cell_type": "code",
   "execution_count": 11,
   "metadata": {},
   "outputs": [
    {
     "name": "stderr",
     "output_type": "stream",
     "text": [
      "Using TensorFlow backend.\n"
     ]
    }
   ],
   "source": [
    "import keras\n",
    "from keras import models\n",
    "from keras import layers\n"
   ]
  },
  {
   "cell_type": "code",
   "execution_count": 47,
   "metadata": {},
   "outputs": [],
   "source": [
    "model = models.Sequential()\n",
    "model.add(layers.Dense(256, activation='relu', input_shape=(X_train.shape[1],)))\n",
    "\n",
    "model.add(layers.Dense(128, activation='relu'))\n",
    "\n",
    "model.add(layers.Dense(64, activation='relu'))\n",
    "\n",
    "model.add(layers.Dense(10, activation='softmax'))\n",
    "\n",
    "model.compile(optimizer='adam',\n",
    "              loss='sparse_categorical_crossentropy',\n",
    "              metrics=['accuracy'])"
   ]
  },
  {
   "cell_type": "code",
   "execution_count": 48,
   "metadata": {
    "scrolled": true
   },
   "outputs": [
    {
     "name": "stdout",
     "output_type": "stream",
     "text": [
      "Epoch 1/20\n",
      "17438/17438 [==============================] - 0s 28us/step - loss: 0.8256 - acc: 0.7285\n",
      "Epoch 2/20\n",
      "17438/17438 [==============================] - 0s 11us/step - loss: 0.5116 - acc: 0.8219\n",
      "Epoch 3/20\n",
      "17438/17438 [==============================] - 0s 11us/step - loss: 0.4577 - acc: 0.8420\n",
      "Epoch 4/20\n",
      "17438/17438 [==============================] - 0s 12us/step - loss: 0.4295 - acc: 0.8498\n",
      "Epoch 5/20\n",
      "17438/17438 [==============================] - 0s 11us/step - loss: 0.4048 - acc: 0.8585\n",
      "Epoch 6/20\n",
      "17438/17438 [==============================] - 0s 11us/step - loss: 0.3837 - acc: 0.8652\n",
      "Epoch 7/20\n",
      "17438/17438 [==============================] - 0s 11us/step - loss: 0.3698 - acc: 0.8688\n",
      "Epoch 8/20\n",
      "17438/17438 [==============================] - 0s 11us/step - loss: 0.3512 - acc: 0.8742\n",
      "Epoch 9/20\n",
      "17438/17438 [==============================] - 0s 11us/step - loss: 0.3371 - acc: 0.8812\n",
      "Epoch 10/20\n",
      "17438/17438 [==============================] - 0s 11us/step - loss: 0.3243 - acc: 0.8846\n",
      "Epoch 11/20\n",
      "17438/17438 [==============================] - 0s 11us/step - loss: 0.3129 - acc: 0.8906\n",
      "Epoch 12/20\n",
      "17438/17438 [==============================] - 0s 11us/step - loss: 0.2999 - acc: 0.8936\n",
      "Epoch 13/20\n",
      "17438/17438 [==============================] - 0s 11us/step - loss: 0.2925 - acc: 0.8971\n",
      "Epoch 14/20\n",
      "17438/17438 [==============================] - 0s 11us/step - loss: 0.2846 - acc: 0.8976\n",
      "Epoch 15/20\n",
      "17438/17438 [==============================] - 0s 11us/step - loss: 0.2741 - acc: 0.9049\n",
      "Epoch 16/20\n",
      "17438/17438 [==============================] - 0s 11us/step - loss: 0.2651 - acc: 0.9069\n",
      "Epoch 17/20\n",
      "17438/17438 [==============================] - 0s 11us/step - loss: 0.2527 - acc: 0.9115\n",
      "Epoch 18/20\n",
      "17438/17438 [==============================] - 0s 12us/step - loss: 0.2471 - acc: 0.9136\n",
      "Epoch 19/20\n",
      "17438/17438 [==============================] - 0s 11us/step - loss: 0.2415 - acc: 0.9138\n",
      "Epoch 20/20\n",
      "17438/17438 [==============================] - 0s 11us/step - loss: 0.2344 - acc: 0.9179\n"
     ]
    }
   ],
   "source": [
    "history = model.fit(X_train,\n",
    "                    y_train,\n",
    "                    epochs=20,\n",
    "                    batch_size=128)"
   ]
  },
  {
   "cell_type": "code",
   "execution_count": 49,
   "metadata": {},
   "outputs": [
    {
     "name": "stdout",
     "output_type": "stream",
     "text": [
      "4360/4360 [==============================] - 0s 21us/step\n",
      "test_acc:  0.8504587155963302\n"
     ]
    }
   ],
   "source": [
    "test_loss, test_acc = model.evaluate(X_test,y_test)\n",
    "print('test_acc: ',test_acc)\n"
   ]
  },
  {
   "cell_type": "code",
   "execution_count": 1899,
   "metadata": {},
   "outputs": [],
   "source": [
    "pp = X_test[4]\n",
    "qq = y_test[4]"
   ]
  },
  {
   "cell_type": "code",
   "execution_count": 1901,
   "metadata": {},
   "outputs": [
    {
     "data": {
      "text/plain": [
       "array([ 0.18781988,  0.20288142, -1.18898722, -1.13899211, -1.42246204,\n",
       "       -1.01882222, -0.24785489,  0.66728939,  1.03053992,  0.76106121,\n",
       "        1.04206064,  0.6012728 ,  0.91796121,  0.54675949,  0.7813259 ,\n",
       "        0.3069026 ,  0.55404046, -0.05247166,  0.3912065 ,  0.10919258,\n",
       "        0.69200098,  0.27339466,  0.73803199,  0.29647445,  0.82429434,\n",
       "        0.20828077])"
      ]
     },
     "execution_count": 1901,
     "metadata": {},
     "output_type": "execute_result"
    }
   ],
   "source": [
    "pp"
   ]
  },
  {
   "cell_type": "code",
   "execution_count": 55,
   "metadata": {},
   "outputs": [
    {
     "data": {
      "text/plain": [
       "1"
      ]
     },
     "execution_count": 55,
     "metadata": {},
     "output_type": "execute_result"
    }
   ],
   "source": [
    "predictions = model.predict(X_test)\n",
    "np.argmax(predictions[0])"
   ]
  },
  {
   "cell_type": "code",
   "execution_count": 76,
   "metadata": {},
   "outputs": [
    {
     "data": {
      "text/plain": [
       "(4360, 26)"
      ]
     },
     "execution_count": 76,
     "metadata": {},
     "output_type": "execute_result"
    }
   ],
   "source": [
    "X_test.shape"
   ]
  },
  {
   "cell_type": "code",
   "execution_count": 14,
   "metadata": {},
   "outputs": [],
   "source": [
    "i = 10\n",
    "pp = np.array(data.loc[i, :])[:-1]"
   ]
  },
  {
   "cell_type": "code",
   "execution_count": 1925,
   "metadata": {
    "scrolled": true
   },
   "outputs": [
    {
     "data": {
      "text/plain": [
       "'Tom'"
      ]
     },
     "execution_count": 1925,
     "metadata": {},
     "output_type": "execute_result"
    }
   ],
   "source": [
    "data.loc[i,][-1]"
   ]
  },
  {
   "cell_type": "code",
   "execution_count": 26,
   "metadata": {},
   "outputs": [
    {
     "ename": "NameError",
     "evalue": "name 'qq' is not defined",
     "output_type": "error",
     "traceback": [
      "\u001b[1;31m---------------------------------------------------------------------------\u001b[0m",
      "\u001b[1;31mNameError\u001b[0m                                 Traceback (most recent call last)",
      "\u001b[1;32m<ipython-input-26-90eb7d84d956>\u001b[0m in \u001b[0;36m<module>\u001b[1;34m\u001b[0m\n\u001b[0;32m      1\u001b[0m \u001b[0mq\u001b[0m \u001b[1;33m=\u001b[0m \u001b[0mmodel\u001b[0m\u001b[1;33m.\u001b[0m\u001b[0mpredict\u001b[0m\u001b[1;33m(\u001b[0m \u001b[0mnp\u001b[0m\u001b[1;33m.\u001b[0m\u001b[0marray\u001b[0m\u001b[1;33m(\u001b[0m \u001b[1;33m[\u001b[0m\u001b[0mpp\u001b[0m\u001b[1;33m,\u001b[0m\u001b[1;33m]\u001b[0m \u001b[1;33m)\u001b[0m  \u001b[1;33m)\u001b[0m\u001b[1;33m\u001b[0m\u001b[1;33m\u001b[0m\u001b[0m\n\u001b[1;32m----> 2\u001b[1;33m \u001b[0mprint\u001b[0m\u001b[1;33m(\u001b[0m\u001b[0mnp\u001b[0m\u001b[1;33m.\u001b[0m\u001b[0margmax\u001b[0m\u001b[1;33m(\u001b[0m\u001b[0mq\u001b[0m\u001b[1;33m[\u001b[0m\u001b[1;36m0\u001b[0m\u001b[1;33m]\u001b[0m\u001b[1;33m)\u001b[0m\u001b[1;33m,\u001b[0m \u001b[0mqq\u001b[0m\u001b[1;33m)\u001b[0m\u001b[1;33m\u001b[0m\u001b[1;33m\u001b[0m\u001b[0m\n\u001b[0m",
      "\u001b[1;31mNameError\u001b[0m: name 'qq' is not defined"
     ]
    }
   ],
   "source": [
    "q = model.predict( np.array( [pp,] )  )\n",
    "print(np.argmax(q[0]), qq)\n"
   ]
  },
  {
   "cell_type": "code",
   "execution_count": 1920,
   "metadata": {},
   "outputs": [
    {
     "data": {
      "text/plain": [
       "array([0.664380889947673, 0.033183366060256965, 673.3654229870945,\n",
       "       1595.9312613189481, 1172.9262408088236, 0.007525275735294119,\n",
       "       -525.5414732833883, 39.09388487896712, 22.395787706170445,\n",
       "       22.342520935939717, 11.89797465312896, 10.130637787519774,\n",
       "       7.888358022436094, 7.321712162531238, 7.226473738928242,\n",
       "       7.007880890992723, 6.781425382577092, 6.422900417512118,\n",
       "       4.927550288708329, 3.1661403131621952, 1.4510287352563074,\n",
       "       0.9253916097869704, 0.8597279007576996, 0.8491050152324691,\n",
       "       -1.8815947620225104, -1.82047554913064], dtype=object)"
      ]
     },
     "execution_count": 1920,
     "metadata": {},
     "output_type": "execute_result"
    }
   ],
   "source": [
    "pp"
   ]
  },
  {
   "cell_type": "code",
   "execution_count": 15,
   "metadata": {},
   "outputs": [],
   "source": [
    "ppp=  scaler.transform([pp])"
   ]
  },
  {
   "cell_type": "code",
   "execution_count": 1924,
   "metadata": {
    "scrolled": true
   },
   "outputs": [
    {
     "data": {
      "text/plain": [
       "array([[ 0.90851872, -0.68125912, -1.06033883, -0.52388938, -1.18538927,\n",
       "        -1.02368549, -0.96221848,  0.27736816,  0.46890869,  0.30390475,\n",
       "         0.47295775,  0.01897937,  0.4682299 ,  0.12219306,  0.5712996 ,\n",
       "         0.24794112,  0.70598601,  0.36597173,  0.65352342, -0.00206112,\n",
       "         0.18238242, -0.39853939,  0.20994969, -0.27237724, -0.20938923,\n",
       "        -0.79803732]])"
      ]
     },
     "execution_count": 1924,
     "metadata": {},
     "output_type": "execute_result"
    }
   ],
   "source": [
    "ppp"
   ]
  },
  {
   "cell_type": "code",
   "execution_count": 23,
   "metadata": {},
   "outputs": [
    {
     "data": {
      "text/plain": [
       "array([[0.05735714, 0.10420804, 0.1118946 , 0.09430208, 0.0828217 ,\n",
       "        0.08246987, 0.13800836, 0.11784419, 0.11214568, 0.09894826]],\n",
       "      dtype=float32)"
      ]
     },
     "execution_count": 23,
     "metadata": {},
     "output_type": "execute_result"
    }
   ],
   "source": [
    "q\n"
   ]
  },
  {
   "cell_type": "code",
   "execution_count": 50,
   "metadata": {},
   "outputs": [
    {
     "data": {
      "text/plain": [
       "2"
      ]
     },
     "execution_count": 50,
     "metadata": {},
     "output_type": "execute_result"
    }
   ],
   "source": [
    "pp = np.array(data.loc[7600, :])[:-1]\n",
    "ppp=  scaler.transform([pp])\n",
    "q = model.predict_proba( ppp )\n",
    "np.argmax(q[0])"
   ]
  },
  {
   "cell_type": "code",
   "execution_count": 51,
   "metadata": {},
   "outputs": [],
   "source": [
    "c = {0: \"Clap\",\n",
    "     1: \"ClosedHat\",\n",
    "     2: \"Crash\",\n",
    "     3: \"Kick\",\n",
    "     4: \"OpenHat\",\n",
    "     5: \"Ride\",\n",
    "     6: \"Snare\",\n",
    "     7: \"Tom\"}"
   ]
  },
  {
   "cell_type": "code",
   "execution_count": 52,
   "metadata": {},
   "outputs": [
    {
     "data": {
      "image/png": "[encoded data removed]",
      "text/plain": [
       "<Figure size 432x288 with 1 Axes>"
      ]
     },
     "metadata": {
      "needs_background": "light"
     },
     "output_type": "display_data"
    }
   ],
   "source": [
    "plt.plot(q[0])\n",
    "plt.show()"
   ]
  },
  {
   "cell_type": "code",
   "execution_count": 1933,
   "metadata": {},
   "outputs": [],
   "source": [
    "from keras.models import load_model"
   ]
  },
  {
   "cell_type": "code",
   "execution_count": 1934,
   "metadata": {},
   "outputs": [],
   "source": [
    "model.save('drum_model2.h5')"
   ]
  },
  {
   "cell_type": "code",
   "execution_count": 1935,
   "metadata": {},
   "outputs": [
    {
     "data": {
      "text/plain": [
       "array([ 5.33531550e-01,  1.02728171e-01,  2.94393148e+03,  2.02118890e+03,\n",
       "        4.96737514e+03,  1.85446747e-01, -3.69993012e+02,  2.08221208e+01,\n",
       "        5.62234611e+00,  1.54912743e+01,  2.16237948e+00,  9.86794700e+00,\n",
       "        1.09400785e+00,  6.00152333e+00,  1.09037008e+00,  4.99338286e+00,\n",
       "        7.24328280e-01,  3.94341928e+00,  4.20984287e-02,  3.17872873e+00,\n",
       "        2.74627425e-01,  3.13753161e+00, -3.41061943e-01,  2.20688790e+00,\n",
       "       -7.62373183e-01,  1.93493977e+00])"
      ]
     },
     "execution_count": 1935,
     "metadata": {},
     "output_type": "execute_result"
    }
   ],
   "source": [
    "# # returns a compiled model\n",
    "# # identical to the previous one\n",
    "# model = load_model('my_model.h5')"
   ]
  },
  {
   "cell_type": "code",
   "execution_count": 1936,
   "metadata": {},
   "outputs": [],
   "source": [
    "from sklearn.externals import joblib\n"
   ]
  },
  {
   "cell_type": "code",
   "execution_count": 1937,
   "metadata": {},
   "outputs": [],
   "source": [
    "scaler_filename = \"scaler.save\""
   ]
  },
  {
   "cell_type": "code",
   "execution_count": 1938,
   "metadata": {},
   "outputs": [
    {
     "data": {
      "text/plain": [
       "['scaler.save']"
      ]
     },
     "execution_count": 1938,
     "metadata": {},
     "output_type": "execute_result"
    }
   ],
   "source": [
    "joblib.dump(scaler, scaler_filename)\n",
    "# scaler = joblib.load(scaler_filename) "
   ]
  },
  {
   "cell_type": "code",
   "execution_count": 46,
   "metadata": {},
   "outputs": [
    {
     "name": "stdout",
     "output_type": "stream",
     "text": [
      "_________________________________________________________________\n",
      "Layer (type)                 Output Shape              Param #   \n",
      "=================================================================\n",
      "dense_1 (Dense)              (None, 256)               6912      \n",
      "_________________________________________________________________\n",
      "dense_2 (Dense)              (None, 128)               32896     \n",
      "_________________________________________________________________\n",
      "dense_3 (Dense)              (None, 64)                8256      \n",
      "_________________________________________________________________\n",
      "dense_4 (Dense)              (None, 10)                650       \n",
      "=================================================================\n",
      "Total params: 48,714\n",
      "Trainable params: 48,714\n",
      "Non-trainable params: 0\n",
      "_________________________________________________________________\n"
     ]
    }
   ],
   "source": [
    "model.summary()"
   ]
  },
  {
   "cell_type": "code",
   "execution_count": null,
   "metadata": {},
   "outputs": [],
   "source": []
  }
 ],
 "metadata": {
  "kernelspec": {
   "display_name": "Python 3",
   "language": "python",
   "name": "python3"
  },
  "language_info": {
   "codemirror_mode": {
    "name": "ipython",
    "version": 3
   },
   "file_extension": ".py",
   "mimetype": "text/x-python",
   "name": "python",
   "nbconvert_exporter": "python",
   "pygments_lexer": "ipython3",
   "version": "3.7.0"
  }
 },
 "nbformat": 4,
 "nbformat_minor": 2
}
