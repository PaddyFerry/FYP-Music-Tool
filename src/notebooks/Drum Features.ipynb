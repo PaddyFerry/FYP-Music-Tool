{
 "cells": [
  {
   "cell_type": "code",
   "execution_count": 1,
   "metadata": {},
   "outputs": [],
   "source": [
    "import librosa\n",
    "import pandas as pd\n",
    "import numpy as np\n",
    "import matplotlib.pyplot as plt\n",
    "import os\n",
    "import csv"
   ]
  },
  {
   "cell_type": "code",
   "execution_count": 27,
   "metadata": {},
   "outputs": [],
   "source": [
    "header = 'filename chroma_stft rmse spectral_centroid spectral_bandwidth rolloff zero_crossing_rate'"
   ]
  },
  {
   "cell_type": "code",
   "execution_count": 28,
   "metadata": {},
   "outputs": [],
   "source": [
    "for i in range(1, 21):\n",
    "    header += f' mfcc{i}'"
   ]
  },
  {
   "cell_type": "code",
   "execution_count": 29,
   "metadata": {},
   "outputs": [],
   "source": [
    "header += ' label'\n",
    "header = header.split()"
   ]
  },
  {
   "cell_type": "code",
   "execution_count": 30,
   "metadata": {},
   "outputs": [
    {
     "name": "stdout",
     "output_type": "stream",
     "text": [
      "28\n"
     ]
    },
    {
     "data": {
      "text/plain": [
       "['filename',\n",
       " 'chroma_stft',\n",
       " 'rmse',\n",
       " 'spectral_centroid',\n",
       " 'spectral_bandwidth',\n",
       " 'rolloff',\n",
       " 'zero_crossing_rate',\n",
       " 'mfcc1',\n",
       " 'mfcc2',\n",
       " 'mfcc3',\n",
       " 'mfcc4',\n",
       " 'mfcc5',\n",
       " 'mfcc6',\n",
       " 'mfcc7',\n",
       " 'mfcc8',\n",
       " 'mfcc9',\n",
       " 'mfcc10',\n",
       " 'mfcc11',\n",
       " 'mfcc12',\n",
       " 'mfcc13',\n",
       " 'mfcc14',\n",
       " 'mfcc15',\n",
       " 'mfcc16',\n",
       " 'mfcc17',\n",
       " 'mfcc18',\n",
       " 'mfcc19',\n",
       " 'mfcc20',\n",
       " 'label']"
      ]
     },
     "execution_count": 30,
     "metadata": {},
     "output_type": "execute_result"
    }
   ],
   "source": [
    "print(len(header))\n",
    "header"
   ]
  },
  {
   "cell_type": "code",
   "execution_count": 31,
   "metadata": {},
   "outputs": [],
   "source": [
    "file = open('data.csv', 'w', newline='')\n",
    "with file:\n",
    "    writer = csv.writer(file)\n",
    "    writer.writerow(header)"
   ]
  },
  {
   "cell_type": "code",
   "execution_count": 8,
   "metadata": {},
   "outputs": [],
   "source": [
    "genres = 'Clap ClosedHat Crash Kick OpenHat Ride Snare Tom'.split()"
   ]
  },
  {
   "cell_type": "code",
   "execution_count": 37,
   "metadata": {},
   "outputs": [],
   "source": [
    "numfiles = 22354\n",
    "progress = 0\n",
    "marker = .02"
   ]
  },
  {
   "cell_type": "code",
   "execution_count": 38,
   "metadata": {
    "scrolled": true
   },
   "outputs": [
    {
     "name": "stdout",
     "output_type": "stream",
     "text": [
      "448/22354 0.0200411559452447\n",
      "Skipping Clap Ame.wav because of not a whole number of frames\n",
      "Skipping Clap ChrisLiebing.wav because of not a whole number of frames\n",
      "Skipping Clap Crystal.wav because of not a whole number of frames\n",
      "895/22354 0.04003757716739734\n",
      "1342/22354 0.06003399838954997\n",
      "1789/22354 0.0800304196117026\n",
      "2236/22354 0.10002684083385524\n",
      "Skipping desktop.ini because of \n",
      "2683/22354 0.12002326205600787\n",
      "3130/22354 0.1400196832781605\n",
      "Skipping ClosedHH Ame.wav because of not a whole number of frames\n",
      "3577/22354 0.16001610450031314\n",
      "Skipping ClosedHH Funkstorung B.wav because of not a whole number of frames\n",
      "4024/22354 0.1800125257224658\n",
      "4471/22354 0.2000089469446184\n",
      "Skipping ClosedHH Spasm 1.wav because of Input signal length=1 is too small to resample from 44100->22050\n",
      "4918/22354 0.22000536816677105\n",
      "Skipping ClosedHH TelAviv 1.wav because of not a whole number of frames\n",
      "Skipping desktop.ini because of \n",
      "5365/22354 0.2400017893889237\n",
      "5813/22354 0.2600429453341684\n",
      "6260/22354 0.280039366556321\n",
      "6707/22354 0.3000357877784737\n",
      "7154/22354 0.3200322090006263\n",
      "7601/22354 0.3400286302227789\n",
      "8048/22354 0.3600250514449316\n",
      "Skipping desktop.ini because of \n",
      "8495/22354 0.3800214726670842\n",
      "8942/22354 0.4000178938892368\n",
      "Skipping desktop.ini because of \n",
      "9389/22354 0.4200143151113895\n",
      "9836/22354 0.4400107363335421\n",
      "10283/22354 0.4600071575556947\n",
      "Skipping Kick Ame 2.wav because of not a whole number of frames\n",
      "Skipping Kick Ame 3.wav because of not a whole number of frames\n",
      "10730/22354 0.4800035787778474\n",
      "Skipping Kick Autopsy 1.wav because of not a whole number of frames\n",
      "Skipping Kick Autopsy 5.wav because of not a whole number of frames\n",
      "11178/22354 0.5000447347230921\n",
      "Skipping Kick Crysatal 2.wav because of not a whole number of frames\n",
      "11625/22354 0.5200411559452447\n",
      "Skipping Kick Fastplant 2.wav because of not a whole number of frames\n",
      "12072/22354 0.5400375771673973\n",
      "12519/22354 0.5600339983895499\n",
      "Skipping Kick MandoBeat A 1.wav because of not a whole number of frames\n",
      "Skipping Kick MandoBeat A 2.wav because of not a whole number of frames\n",
      "Skipping Kick Metamorphic 2.wav because of not a whole number of frames\n",
      "Skipping Kick Metamorphic 3.wav because of not a whole number of frames\n",
      "12966/22354 0.5800304196117027\n",
      "13413/22354 0.6000268408338553\n",
      "13860/22354 0.6200232620560079\n",
      "14307/22354 0.6400196832781605\n",
      "14754/22354 0.6600161045003131\n",
      "15201/22354 0.6800125257224657\n",
      "15648/22354 0.7000089469446185\n",
      "Skipping desktop.ini because of \n",
      "Skipping OpenHH Ame 1.wav because of not a whole number of frames\n",
      "Skipping OpenHH Ame 2.wav because of not a whole number of frames\n",
      "16095/22354 0.7200053681667711\n",
      "Skipping OpenHH Autopsy.wav because of not a whole number of frames\n",
      "16542/22354 0.7400017893889237\n",
      "Skipping OpenHH MandoBeat A.wav because of not a whole number of frames\n",
      "16990/22354 0.7600429453341684\n",
      "Skipping desktop.ini because of \n",
      "17437/22354 0.780039366556321\n",
      "17884/22354 0.8000357877784736\n",
      "18331/22354 0.8200322090006262\n",
      "Skipping desktop.ini because of \n",
      "18778/22354 0.840028630222779\n",
      "19225/22354 0.8600250514449316\n",
      "19672/22354 0.8800214726670842\n",
      "20119/22354 0.9000178938892368\n",
      "20566/22354 0.9200143151113894\n",
      "21013/22354 0.940010736333542\n"
     ]
    },
    {
     "ename": "ValueError",
     "evalue": "There aren't any elements to reflect in axis 0 of `array`",
     "output_type": "error",
     "traceback": [
      "\u001b[1;31m---------------------------------------------------------------------------\u001b[0m",
      "\u001b[1;31mValueError\u001b[0m                                Traceback (most recent call last)",
      "\u001b[1;32m<ipython-input-38-19709e5e629a>\u001b[0m in \u001b[0;36m<module>\u001b[1;34m\u001b[0m\n\u001b[0;32m      8\u001b[0m             \u001b[0mprint\u001b[0m\u001b[1;33m(\u001b[0m\u001b[1;34mf\"Skipping {filename} because of \"\u001b[0m \u001b[1;33m+\u001b[0m \u001b[0mstr\u001b[0m\u001b[1;33m(\u001b[0m\u001b[0me\u001b[0m\u001b[1;33m)\u001b[0m\u001b[1;33m)\u001b[0m\u001b[1;33m\u001b[0m\u001b[1;33m\u001b[0m\u001b[0m\n\u001b[0;32m      9\u001b[0m             \u001b[1;32mcontinue\u001b[0m\u001b[1;33m\u001b[0m\u001b[1;33m\u001b[0m\u001b[0m\n\u001b[1;32m---> 10\u001b[1;33m         \u001b[0mchroma_stft\u001b[0m \u001b[1;33m=\u001b[0m \u001b[0mlibrosa\u001b[0m\u001b[1;33m.\u001b[0m\u001b[0mfeature\u001b[0m\u001b[1;33m.\u001b[0m\u001b[0mchroma_stft\u001b[0m\u001b[1;33m(\u001b[0m\u001b[0my\u001b[0m\u001b[1;33m=\u001b[0m\u001b[0my\u001b[0m\u001b[1;33m,\u001b[0m \u001b[0msr\u001b[0m\u001b[1;33m=\u001b[0m\u001b[0msr\u001b[0m\u001b[1;33m)\u001b[0m\u001b[1;33m\u001b[0m\u001b[1;33m\u001b[0m\u001b[0m\n\u001b[0m\u001b[0;32m     11\u001b[0m         \u001b[0mrmse\u001b[0m \u001b[1;33m=\u001b[0m \u001b[0mlibrosa\u001b[0m\u001b[1;33m.\u001b[0m\u001b[0mfeature\u001b[0m\u001b[1;33m.\u001b[0m\u001b[0mrmse\u001b[0m\u001b[1;33m(\u001b[0m\u001b[0my\u001b[0m\u001b[1;33m=\u001b[0m\u001b[0my\u001b[0m\u001b[1;33m)\u001b[0m\u001b[1;33m\u001b[0m\u001b[1;33m\u001b[0m\u001b[0m\n\u001b[0;32m     12\u001b[0m         \u001b[0mspec_cent\u001b[0m \u001b[1;33m=\u001b[0m \u001b[0mlibrosa\u001b[0m\u001b[1;33m.\u001b[0m\u001b[0mfeature\u001b[0m\u001b[1;33m.\u001b[0m\u001b[0mspectral_centroid\u001b[0m\u001b[1;33m(\u001b[0m\u001b[0my\u001b[0m\u001b[1;33m=\u001b[0m\u001b[0my\u001b[0m\u001b[1;33m,\u001b[0m \u001b[0msr\u001b[0m\u001b[1;33m=\u001b[0m\u001b[0msr\u001b[0m\u001b[1;33m)\u001b[0m\u001b[1;33m\u001b[0m\u001b[1;33m\u001b[0m\u001b[0m\n",
      "\u001b[1;32mc:\\users\\p\\pycharmprojects\\2019-ca400-ferryp2\\project\\lib\\site-packages\\librosa\\feature\\spectral.py\u001b[0m in \u001b[0;36mchroma_stft\u001b[1;34m(y, sr, S, norm, n_fft, hop_length, tuning, **kwargs)\u001b[0m\n\u001b[0;32m    959\u001b[0m \u001b[1;33m\u001b[0m\u001b[0m\n\u001b[0;32m    960\u001b[0m     S, n_fft = _spectrogram(y=y, S=S, n_fft=n_fft, hop_length=hop_length,\n\u001b[1;32m--> 961\u001b[1;33m                             power=2)\n\u001b[0m\u001b[0;32m    962\u001b[0m \u001b[1;33m\u001b[0m\u001b[0m\n\u001b[0;32m    963\u001b[0m     \u001b[0mn_chroma\u001b[0m \u001b[1;33m=\u001b[0m \u001b[0mkwargs\u001b[0m\u001b[1;33m.\u001b[0m\u001b[0mget\u001b[0m\u001b[1;33m(\u001b[0m\u001b[1;34m'n_chroma'\u001b[0m\u001b[1;33m,\u001b[0m \u001b[1;36m12\u001b[0m\u001b[1;33m)\u001b[0m\u001b[1;33m\u001b[0m\u001b[1;33m\u001b[0m\u001b[0m\n",
      "\u001b[1;32mc:\\users\\p\\pycharmprojects\\2019-ca400-ferryp2\\project\\lib\\site-packages\\librosa\\core\\spectrum.py\u001b[0m in \u001b[0;36m_spectrogram\u001b[1;34m(y, S, n_fft, hop_length, power)\u001b[0m\n\u001b[0;32m   1555\u001b[0m     \u001b[1;32melse\u001b[0m\u001b[1;33m:\u001b[0m\u001b[1;33m\u001b[0m\u001b[1;33m\u001b[0m\u001b[0m\n\u001b[0;32m   1556\u001b[0m         \u001b[1;31m# Otherwise, compute a magnitude spectrogram from input\u001b[0m\u001b[1;33m\u001b[0m\u001b[1;33m\u001b[0m\u001b[1;33m\u001b[0m\u001b[0m\n\u001b[1;32m-> 1557\u001b[1;33m         \u001b[0mS\u001b[0m \u001b[1;33m=\u001b[0m \u001b[0mnp\u001b[0m\u001b[1;33m.\u001b[0m\u001b[0mabs\u001b[0m\u001b[1;33m(\u001b[0m\u001b[0mstft\u001b[0m\u001b[1;33m(\u001b[0m\u001b[0my\u001b[0m\u001b[1;33m,\u001b[0m \u001b[0mn_fft\u001b[0m\u001b[1;33m=\u001b[0m\u001b[0mn_fft\u001b[0m\u001b[1;33m,\u001b[0m \u001b[0mhop_length\u001b[0m\u001b[1;33m=\u001b[0m\u001b[0mhop_length\u001b[0m\u001b[1;33m)\u001b[0m\u001b[1;33m)\u001b[0m\u001b[1;33m**\u001b[0m\u001b[0mpower\u001b[0m\u001b[1;33m\u001b[0m\u001b[1;33m\u001b[0m\u001b[0m\n\u001b[0m\u001b[0;32m   1558\u001b[0m \u001b[1;33m\u001b[0m\u001b[0m\n\u001b[0;32m   1559\u001b[0m     \u001b[1;32mreturn\u001b[0m \u001b[0mS\u001b[0m\u001b[1;33m,\u001b[0m \u001b[0mn_fft\u001b[0m\u001b[1;33m\u001b[0m\u001b[1;33m\u001b[0m\u001b[0m\n",
      "\u001b[1;32mc:\\users\\p\\pycharmprojects\\2019-ca400-ferryp2\\project\\lib\\site-packages\\librosa\\core\\spectrum.py\u001b[0m in \u001b[0;36mstft\u001b[1;34m(y, n_fft, hop_length, win_length, window, center, dtype, pad_mode)\u001b[0m\n\u001b[0;32m    163\u001b[0m     \u001b[1;31m# Pad the time series so that frames are centered\u001b[0m\u001b[1;33m\u001b[0m\u001b[1;33m\u001b[0m\u001b[1;33m\u001b[0m\u001b[0m\n\u001b[0;32m    164\u001b[0m     \u001b[1;32mif\u001b[0m \u001b[0mcenter\u001b[0m\u001b[1;33m:\u001b[0m\u001b[1;33m\u001b[0m\u001b[1;33m\u001b[0m\u001b[0m\n\u001b[1;32m--> 165\u001b[1;33m         \u001b[0my\u001b[0m \u001b[1;33m=\u001b[0m \u001b[0mnp\u001b[0m\u001b[1;33m.\u001b[0m\u001b[0mpad\u001b[0m\u001b[1;33m(\u001b[0m\u001b[0my\u001b[0m\u001b[1;33m,\u001b[0m \u001b[0mint\u001b[0m\u001b[1;33m(\u001b[0m\u001b[0mn_fft\u001b[0m \u001b[1;33m//\u001b[0m \u001b[1;36m2\u001b[0m\u001b[1;33m)\u001b[0m\u001b[1;33m,\u001b[0m \u001b[0mmode\u001b[0m\u001b[1;33m=\u001b[0m\u001b[0mpad_mode\u001b[0m\u001b[1;33m)\u001b[0m\u001b[1;33m\u001b[0m\u001b[1;33m\u001b[0m\u001b[0m\n\u001b[0m\u001b[0;32m    166\u001b[0m \u001b[1;33m\u001b[0m\u001b[0m\n\u001b[0;32m    167\u001b[0m     \u001b[1;31m# Window the time series.\u001b[0m\u001b[1;33m\u001b[0m\u001b[1;33m\u001b[0m\u001b[1;33m\u001b[0m\u001b[0m\n",
      "\u001b[1;32mc:\\users\\p\\pycharmprojects\\2019-ca400-ferryp2\\project\\lib\\site-packages\\numpy\\lib\\arraypad.py\u001b[0m in \u001b[0;36mpad\u001b[1;34m(array, pad_width, mode, **kwargs)\u001b[0m\n\u001b[0;32m   1288\u001b[0m                 \u001b[1;32mif\u001b[0m \u001b[0mpad_before\u001b[0m \u001b[1;33m>\u001b[0m \u001b[1;36m0\u001b[0m \u001b[1;32mor\u001b[0m \u001b[0mpad_after\u001b[0m \u001b[1;33m>\u001b[0m \u001b[1;36m0\u001b[0m\u001b[1;33m:\u001b[0m\u001b[1;33m\u001b[0m\u001b[1;33m\u001b[0m\u001b[0m\n\u001b[0;32m   1289\u001b[0m                     raise ValueError(\"There aren't any elements to reflect\"\n\u001b[1;32m-> 1290\u001b[1;33m                                      \" in axis {} of `array`\".format(axis))\n\u001b[0m\u001b[0;32m   1291\u001b[0m                 \u001b[1;31m# Skip zero padding on empty axes.\u001b[0m\u001b[1;33m\u001b[0m\u001b[1;33m\u001b[0m\u001b[1;33m\u001b[0m\u001b[0m\n\u001b[0;32m   1292\u001b[0m                 \u001b[1;32mcontinue\u001b[0m\u001b[1;33m\u001b[0m\u001b[1;33m\u001b[0m\u001b[0m\n",
      "\u001b[1;31mValueError\u001b[0m: There aren't any elements to reflect in axis 0 of `array`"
     ]
    }
   ],
   "source": [
    "for g in genres:\n",
    "    for filename in os.listdir(f'./DrumData/{g}'):\n",
    "        songname = f'./DrumData/{g}/{filename}'\n",
    "        try:\n",
    "            y, sr = librosa.load(songname, mono=True)\n",
    "        except Exception as e:\n",
    "            progress += 1\n",
    "            print(f\"Skipping {filename} because of \" + str(e))\n",
    "            continue\n",
    "        chroma_stft = librosa.feature.chroma_stft(y=y, sr=sr)\n",
    "        rmse = librosa.feature.rmse(y=y)\n",
    "        spec_cent = librosa.feature.spectral_centroid(y=y, sr=sr)\n",
    "        spec_bw = librosa.feature.spectral_bandwidth(y=y, sr=sr)\n",
    "        rolloff = librosa.feature.spectral_rolloff(y=y, sr=sr)\n",
    "        zcr = librosa.feature.zero_crossing_rate(y)\n",
    "        mfcc = librosa.feature.mfcc(y=y, sr=sr)\n",
    "        filename = filename.strip().replace(\" \", \"\")\n",
    "        to_append = f'{filename} {np.mean(chroma_stft)} {np.mean(rmse)} {np.mean(spec_cent)} {np.mean(spec_bw)} {np.mean(rolloff)} {np.mean(zcr)}'    \n",
    "        for e in mfcc:\n",
    "            to_append += f' {np.mean(e)}'\n",
    "        to_append += f' {g}'\n",
    "        file = open('data.csv', 'a', newline='')\n",
    "        with file:\n",
    "            writer = csv.writer(file)\n",
    "            writer.writerow(to_append.split())\n",
    "        progress += 1\n",
    "        if progress/numfiles > marker:\n",
    "            print(f\"{progress}/{numfiles}\", progress/numfiles)\n",
    "            marker += .02\n"
   ]
  },
  {
   "cell_type": "code",
   "execution_count": 39,
   "metadata": {},
   "outputs": [
    {
     "name": "stdout",
     "output_type": "stream",
     "text": [
      "Skipping desktop.ini because of \n",
      "21460/22354 0.9600071575556948\n"
     ]
    }
   ],
   "source": [
    "g = \"Tom\"\n",
    "for filename in os.listdir(f'./DrumData/{g}'):\n",
    "        songname = f'./DrumData/{g}/{filename}'\n",
    "        try:\n",
    "            y, sr = librosa.load(songname, mono=True)\n",
    "        except Exception as e:\n",
    "            progress += 1\n",
    "            print(f\"Skipping {filename} because of \" + str(e))\n",
    "            continue\n",
    "        chroma_stft = librosa.feature.chroma_stft(y=y, sr=sr)\n",
    "        rmse = librosa.feature.rmse(y=y)\n",
    "        spec_cent = librosa.feature.spectral_centroid(y=y, sr=sr)\n",
    "        spec_bw = librosa.feature.spectral_bandwidth(y=y, sr=sr)\n",
    "        rolloff = librosa.feature.spectral_rolloff(y=y, sr=sr)\n",
    "        zcr = librosa.feature.zero_crossing_rate(y)\n",
    "        mfcc = librosa.feature.mfcc(y=y, sr=sr)\n",
    "        filename = filename.strip().replace(\" \", \"\")\n",
    "        to_append = f'{filename} {np.mean(chroma_stft)} {np.mean(rmse)} {np.mean(spec_cent)} {np.mean(spec_bw)} {np.mean(rolloff)} {np.mean(zcr)}'    \n",
    "        for e in mfcc:\n",
    "            to_append += f' {np.mean(e)}'\n",
    "        to_append += f' {g}'\n",
    "        file = open('data.csv', 'a', newline='')\n",
    "        with file:\n",
    "            writer = csv.writer(file)\n",
    "            writer.writerow(to_append.split())\n",
    "        progress += 1\n",
    "        if progress/numfiles > marker:\n",
    "            print(f\"{progress}/{numfiles}\", progress/numfiles)\n",
    "            marker += .02"
   ]
  },
  {
   "cell_type": "code",
   "execution_count": 2,
   "metadata": {},
   "outputs": [],
   "source": [
    "data = pd.read_csv('../data.csv')\n",
    "# data.head()\n",
    "\n"
   ]
  },
  {
   "cell_type": "code",
   "execution_count": 3,
   "metadata": {},
   "outputs": [
    {
     "data": {
      "text/html": [
       "<div>\n",
       "<style scoped>\n",
       "    .dataframe tbody tr th:only-of-type {\n",
       "        vertical-align: middle;\n",
       "    }\n",
       "\n",
       "    .dataframe tbody tr th {\n",
       "        vertical-align: top;\n",
       "    }\n",
       "\n",
       "    .dataframe thead th {\n",
       "        text-align: right;\n",
       "    }\n",
       "</style>\n",
       "<table border=\"1\" class=\"dataframe\">\n",
       "  <thead>\n",
       "    <tr style=\"text-align: right;\">\n",
       "      <th></th>\n",
       "      <th>filename</th>\n",
       "      <th>chroma_stft</th>\n",
       "      <th>rmse</th>\n",
       "      <th>spectral_centroid</th>\n",
       "      <th>spectral_bandwidth</th>\n",
       "      <th>rolloff</th>\n",
       "      <th>zero_crossing_rate</th>\n",
       "      <th>mfcc1</th>\n",
       "      <th>mfcc2</th>\n",
       "      <th>mfcc3</th>\n",
       "      <th>...</th>\n",
       "      <th>mfcc12</th>\n",
       "      <th>mfcc13</th>\n",
       "      <th>mfcc14</th>\n",
       "      <th>mfcc15</th>\n",
       "      <th>mfcc16</th>\n",
       "      <th>mfcc17</th>\n",
       "      <th>mfcc18</th>\n",
       "      <th>mfcc19</th>\n",
       "      <th>mfcc20</th>\n",
       "      <th>label</th>\n",
       "    </tr>\n",
       "  </thead>\n",
       "  <tbody>\n",
       "    <tr>\n",
       "      <th>0</th>\n",
       "      <td>01ClapBMB.WAV</td>\n",
       "      <td>0.618883</td>\n",
       "      <td>0.119291</td>\n",
       "      <td>3065.714055</td>\n",
       "      <td>2460.566711</td>\n",
       "      <td>5862.414551</td>\n",
       "      <td>0.161784</td>\n",
       "      <td>-56.772178</td>\n",
       "      <td>48.711372</td>\n",
       "      <td>-59.552208</td>\n",
       "      <td>...</td>\n",
       "      <td>-3.123486</td>\n",
       "      <td>-7.359495</td>\n",
       "      <td>3.144433</td>\n",
       "      <td>-3.356684</td>\n",
       "      <td>4.992271</td>\n",
       "      <td>2.515457</td>\n",
       "      <td>9.465140</td>\n",
       "      <td>-0.621855</td>\n",
       "      <td>5.238568</td>\n",
       "      <td>Clap</td>\n",
       "    </tr>\n",
       "    <tr>\n",
       "      <th>1</th>\n",
       "      <td>01#03ds03.wav</td>\n",
       "      <td>0.635330</td>\n",
       "      <td>0.037196</td>\n",
       "      <td>3693.867336</td>\n",
       "      <td>2636.259493</td>\n",
       "      <td>6678.555575</td>\n",
       "      <td>0.196481</td>\n",
       "      <td>-421.383672</td>\n",
       "      <td>28.779544</td>\n",
       "      <td>-37.877411</td>\n",
       "      <td>...</td>\n",
       "      <td>-1.454617</td>\n",
       "      <td>-2.989339</td>\n",
       "      <td>1.468267</td>\n",
       "      <td>-0.738073</td>\n",
       "      <td>-2.872931</td>\n",
       "      <td>-3.265541</td>\n",
       "      <td>5.980502</td>\n",
       "      <td>-1.427013</td>\n",
       "      <td>2.857505</td>\n",
       "      <td>Clap</td>\n",
       "    </tr>\n",
       "    <tr>\n",
       "      <th>2</th>\n",
       "      <td>01#03ds04.wav</td>\n",
       "      <td>0.629891</td>\n",
       "      <td>0.046015</td>\n",
       "      <td>3590.197924</td>\n",
       "      <td>2605.403598</td>\n",
       "      <td>6587.059356</td>\n",
       "      <td>0.200886</td>\n",
       "      <td>-363.669516</td>\n",
       "      <td>25.263142</td>\n",
       "      <td>-37.137436</td>\n",
       "      <td>...</td>\n",
       "      <td>-1.929337</td>\n",
       "      <td>-1.920452</td>\n",
       "      <td>2.100165</td>\n",
       "      <td>-2.999123</td>\n",
       "      <td>-0.400314</td>\n",
       "      <td>-1.693672</td>\n",
       "      <td>3.565656</td>\n",
       "      <td>-1.433910</td>\n",
       "      <td>1.827394</td>\n",
       "      <td>Clap</td>\n",
       "    </tr>\n",
       "    <tr>\n",
       "      <th>3</th>\n",
       "      <td>02ClapBMB.WAV</td>\n",
       "      <td>0.434298</td>\n",
       "      <td>0.155422</td>\n",
       "      <td>2418.015677</td>\n",
       "      <td>2001.283210</td>\n",
       "      <td>4326.379395</td>\n",
       "      <td>0.123698</td>\n",
       "      <td>-168.246688</td>\n",
       "      <td>53.183609</td>\n",
       "      <td>-86.767207</td>\n",
       "      <td>...</td>\n",
       "      <td>5.611905</td>\n",
       "      <td>0.129062</td>\n",
       "      <td>4.257509</td>\n",
       "      <td>-0.471195</td>\n",
       "      <td>0.753118</td>\n",
       "      <td>-2.098963</td>\n",
       "      <td>4.158339</td>\n",
       "      <td>0.640163</td>\n",
       "      <td>3.054923</td>\n",
       "      <td>Clap</td>\n",
       "    </tr>\n",
       "    <tr>\n",
       "      <th>4</th>\n",
       "      <td>02.Clap.wav</td>\n",
       "      <td>0.536626</td>\n",
       "      <td>0.014460</td>\n",
       "      <td>5998.845143</td>\n",
       "      <td>3263.768485</td>\n",
       "      <td>9358.270264</td>\n",
       "      <td>0.401923</td>\n",
       "      <td>-441.632454</td>\n",
       "      <td>-10.441482</td>\n",
       "      <td>54.436183</td>\n",
       "      <td>...</td>\n",
       "      <td>4.379537</td>\n",
       "      <td>-0.004708</td>\n",
       "      <td>5.425863</td>\n",
       "      <td>3.019330</td>\n",
       "      <td>9.410884</td>\n",
       "      <td>2.498261</td>\n",
       "      <td>4.078138</td>\n",
       "      <td>0.661409</td>\n",
       "      <td>5.287163</td>\n",
       "      <td>Clap</td>\n",
       "    </tr>\n",
       "  </tbody>\n",
       "</table>\n",
       "<p>5 rows × 28 columns</p>\n",
       "</div>"
      ],
      "text/plain": [
       "        filename  chroma_stft      rmse  spectral_centroid  \\\n",
       "0  01ClapBMB.WAV     0.618883  0.119291        3065.714055   \n",
       "1  01#03ds03.wav     0.635330  0.037196        3693.867336   \n",
       "2  01#03ds04.wav     0.629891  0.046015        3590.197924   \n",
       "3  02ClapBMB.WAV     0.434298  0.155422        2418.015677   \n",
       "4    02.Clap.wav     0.536626  0.014460        5998.845143   \n",
       "\n",
       "   spectral_bandwidth      rolloff  zero_crossing_rate       mfcc1      mfcc2  \\\n",
       "0         2460.566711  5862.414551            0.161784  -56.772178  48.711372   \n",
       "1         2636.259493  6678.555575            0.196481 -421.383672  28.779544   \n",
       "2         2605.403598  6587.059356            0.200886 -363.669516  25.263142   \n",
       "3         2001.283210  4326.379395            0.123698 -168.246688  53.183609   \n",
       "4         3263.768485  9358.270264            0.401923 -441.632454 -10.441482   \n",
       "\n",
       "       mfcc3  ...    mfcc12    mfcc13    mfcc14    mfcc15    mfcc16    mfcc17  \\\n",
       "0 -59.552208  ... -3.123486 -7.359495  3.144433 -3.356684  4.992271  2.515457   \n",
       "1 -37.877411  ... -1.454617 -2.989339  1.468267 -0.738073 -2.872931 -3.265541   \n",
       "2 -37.137436  ... -1.929337 -1.920452  2.100165 -2.999123 -0.400314 -1.693672   \n",
       "3 -86.767207  ...  5.611905  0.129062  4.257509 -0.471195  0.753118 -2.098963   \n",
       "4  54.436183  ...  4.379537 -0.004708  5.425863  3.019330  9.410884  2.498261   \n",
       "\n",
       "     mfcc18    mfcc19    mfcc20  label  \n",
       "0  9.465140 -0.621855  5.238568   Clap  \n",
       "1  5.980502 -1.427013  2.857505   Clap  \n",
       "2  3.565656 -1.433910  1.827394   Clap  \n",
       "3  4.158339  0.640163  3.054923   Clap  \n",
       "4  4.078138  0.661409  5.287163   Clap  \n",
       "\n",
       "[5 rows x 28 columns]"
      ]
     },
     "execution_count": 3,
     "metadata": {},
     "output_type": "execute_result"
    }
   ],
   "source": [
    "data.head()"
   ]
  },
  {
   "cell_type": "code",
   "execution_count": 4,
   "metadata": {
    "scrolled": true
   },
   "outputs": [
    {
     "data": {
      "text/html": [
       "<div>\n",
       "<style scoped>\n",
       "    .dataframe tbody tr th:only-of-type {\n",
       "        vertical-align: middle;\n",
       "    }\n",
       "\n",
       "    .dataframe tbody tr th {\n",
       "        vertical-align: top;\n",
       "    }\n",
       "\n",
       "    .dataframe thead th {\n",
       "        text-align: right;\n",
       "    }\n",
       "</style>\n",
       "<table border=\"1\" class=\"dataframe\">\n",
       "  <thead>\n",
       "    <tr style=\"text-align: right;\">\n",
       "      <th></th>\n",
       "      <th>chroma_stft</th>\n",
       "      <th>rmse</th>\n",
       "      <th>spectral_centroid</th>\n",
       "      <th>spectral_bandwidth</th>\n",
       "      <th>rolloff</th>\n",
       "      <th>zero_crossing_rate</th>\n",
       "      <th>mfcc1</th>\n",
       "      <th>mfcc2</th>\n",
       "      <th>mfcc3</th>\n",
       "      <th>mfcc4</th>\n",
       "      <th>...</th>\n",
       "      <th>mfcc12</th>\n",
       "      <th>mfcc13</th>\n",
       "      <th>mfcc14</th>\n",
       "      <th>mfcc15</th>\n",
       "      <th>mfcc16</th>\n",
       "      <th>mfcc17</th>\n",
       "      <th>mfcc18</th>\n",
       "      <th>mfcc19</th>\n",
       "      <th>mfcc20</th>\n",
       "      <th>label</th>\n",
       "    </tr>\n",
       "  </thead>\n",
       "  <tbody>\n",
       "    <tr>\n",
       "      <th>0</th>\n",
       "      <td>0.618883</td>\n",
       "      <td>0.119291</td>\n",
       "      <td>3065.714055</td>\n",
       "      <td>2460.566711</td>\n",
       "      <td>5862.414551</td>\n",
       "      <td>0.161784</td>\n",
       "      <td>-56.772178</td>\n",
       "      <td>48.711372</td>\n",
       "      <td>-59.552208</td>\n",
       "      <td>-19.775777</td>\n",
       "      <td>...</td>\n",
       "      <td>-3.123486</td>\n",
       "      <td>-7.359495</td>\n",
       "      <td>3.144433</td>\n",
       "      <td>-3.356684</td>\n",
       "      <td>4.992271</td>\n",
       "      <td>2.515457</td>\n",
       "      <td>9.465140</td>\n",
       "      <td>-0.621855</td>\n",
       "      <td>5.238568</td>\n",
       "      <td>Clap</td>\n",
       "    </tr>\n",
       "    <tr>\n",
       "      <th>1</th>\n",
       "      <td>0.635330</td>\n",
       "      <td>0.037196</td>\n",
       "      <td>3693.867336</td>\n",
       "      <td>2636.259493</td>\n",
       "      <td>6678.555575</td>\n",
       "      <td>0.196481</td>\n",
       "      <td>-421.383672</td>\n",
       "      <td>28.779544</td>\n",
       "      <td>-37.877411</td>\n",
       "      <td>-2.279165</td>\n",
       "      <td>...</td>\n",
       "      <td>-1.454617</td>\n",
       "      <td>-2.989339</td>\n",
       "      <td>1.468267</td>\n",
       "      <td>-0.738073</td>\n",
       "      <td>-2.872931</td>\n",
       "      <td>-3.265541</td>\n",
       "      <td>5.980502</td>\n",
       "      <td>-1.427013</td>\n",
       "      <td>2.857505</td>\n",
       "      <td>Clap</td>\n",
       "    </tr>\n",
       "    <tr>\n",
       "      <th>2</th>\n",
       "      <td>0.629891</td>\n",
       "      <td>0.046015</td>\n",
       "      <td>3590.197924</td>\n",
       "      <td>2605.403598</td>\n",
       "      <td>6587.059356</td>\n",
       "      <td>0.200886</td>\n",
       "      <td>-363.669516</td>\n",
       "      <td>25.263142</td>\n",
       "      <td>-37.137436</td>\n",
       "      <td>-1.053125</td>\n",
       "      <td>...</td>\n",
       "      <td>-1.929337</td>\n",
       "      <td>-1.920452</td>\n",
       "      <td>2.100165</td>\n",
       "      <td>-2.999123</td>\n",
       "      <td>-0.400314</td>\n",
       "      <td>-1.693672</td>\n",
       "      <td>3.565656</td>\n",
       "      <td>-1.433910</td>\n",
       "      <td>1.827394</td>\n",
       "      <td>Clap</td>\n",
       "    </tr>\n",
       "    <tr>\n",
       "      <th>3</th>\n",
       "      <td>0.434298</td>\n",
       "      <td>0.155422</td>\n",
       "      <td>2418.015677</td>\n",
       "      <td>2001.283210</td>\n",
       "      <td>4326.379395</td>\n",
       "      <td>0.123698</td>\n",
       "      <td>-168.246688</td>\n",
       "      <td>53.183609</td>\n",
       "      <td>-86.767207</td>\n",
       "      <td>-43.990146</td>\n",
       "      <td>...</td>\n",
       "      <td>5.611905</td>\n",
       "      <td>0.129062</td>\n",
       "      <td>4.257509</td>\n",
       "      <td>-0.471195</td>\n",
       "      <td>0.753118</td>\n",
       "      <td>-2.098963</td>\n",
       "      <td>4.158339</td>\n",
       "      <td>0.640163</td>\n",
       "      <td>3.054923</td>\n",
       "      <td>Clap</td>\n",
       "    </tr>\n",
       "    <tr>\n",
       "      <th>4</th>\n",
       "      <td>0.536626</td>\n",
       "      <td>0.014460</td>\n",
       "      <td>5998.845143</td>\n",
       "      <td>3263.768485</td>\n",
       "      <td>9358.270264</td>\n",
       "      <td>0.401923</td>\n",
       "      <td>-441.632454</td>\n",
       "      <td>-10.441482</td>\n",
       "      <td>54.436183</td>\n",
       "      <td>7.500737</td>\n",
       "      <td>...</td>\n",
       "      <td>4.379537</td>\n",
       "      <td>-0.004708</td>\n",
       "      <td>5.425863</td>\n",
       "      <td>3.019330</td>\n",
       "      <td>9.410884</td>\n",
       "      <td>2.498261</td>\n",
       "      <td>4.078138</td>\n",
       "      <td>0.661409</td>\n",
       "      <td>5.287163</td>\n",
       "      <td>Clap</td>\n",
       "    </tr>\n",
       "  </tbody>\n",
       "</table>\n",
       "<p>5 rows × 27 columns</p>\n",
       "</div>"
      ],
      "text/plain": [
       "   chroma_stft      rmse  spectral_centroid  spectral_bandwidth      rolloff  \\\n",
       "0     0.618883  0.119291        3065.714055         2460.566711  5862.414551   \n",
       "1     0.635330  0.037196        3693.867336         2636.259493  6678.555575   \n",
       "2     0.629891  0.046015        3590.197924         2605.403598  6587.059356   \n",
       "3     0.434298  0.155422        2418.015677         2001.283210  4326.379395   \n",
       "4     0.536626  0.014460        5998.845143         3263.768485  9358.270264   \n",
       "\n",
       "   zero_crossing_rate       mfcc1      mfcc2      mfcc3      mfcc4  ...  \\\n",
       "0            0.161784  -56.772178  48.711372 -59.552208 -19.775777  ...   \n",
       "1            0.196481 -421.383672  28.779544 -37.877411  -2.279165  ...   \n",
       "2            0.200886 -363.669516  25.263142 -37.137436  -1.053125  ...   \n",
       "3            0.123698 -168.246688  53.183609 -86.767207 -43.990146  ...   \n",
       "4            0.401923 -441.632454 -10.441482  54.436183   7.500737  ...   \n",
       "\n",
       "     mfcc12    mfcc13    mfcc14    mfcc15    mfcc16    mfcc17    mfcc18  \\\n",
       "0 -3.123486 -7.359495  3.144433 -3.356684  4.992271  2.515457  9.465140   \n",
       "1 -1.454617 -2.989339  1.468267 -0.738073 -2.872931 -3.265541  5.980502   \n",
       "2 -1.929337 -1.920452  2.100165 -2.999123 -0.400314 -1.693672  3.565656   \n",
       "3  5.611905  0.129062  4.257509 -0.471195  0.753118 -2.098963  4.158339   \n",
       "4  4.379537 -0.004708  5.425863  3.019330  9.410884  2.498261  4.078138   \n",
       "\n",
       "     mfcc19    mfcc20  label  \n",
       "0 -0.621855  5.238568   Clap  \n",
       "1 -1.427013  2.857505   Clap  \n",
       "2 -1.433910  1.827394   Clap  \n",
       "3  0.640163  3.054923   Clap  \n",
       "4  0.661409  5.287163   Clap  \n",
       "\n",
       "[5 rows x 27 columns]"
      ]
     },
     "execution_count": 4,
     "metadata": {},
     "output_type": "execute_result"
    }
   ],
   "source": [
    "data = data.drop(['filename'],axis=1)\n",
    "data.head()"
   ]
  },
  {
   "cell_type": "code",
   "execution_count": 5,
   "metadata": {},
   "outputs": [],
   "source": [
    "from sklearn.model_selection import train_test_split\n",
    "from sklearn.preprocessing import LabelEncoder, StandardScaler"
   ]
  },
  {
   "cell_type": "code",
   "execution_count": 6,
   "metadata": {},
   "outputs": [],
   "source": [
    "genre_list = data.iloc[:, -1]"
   ]
  },
  {
   "cell_type": "code",
   "execution_count": 7,
   "metadata": {},
   "outputs": [],
   "source": [
    "encoder = LabelEncoder()"
   ]
  },
  {
   "cell_type": "code",
   "execution_count": 8,
   "metadata": {},
   "outputs": [
    {
     "name": "stdout",
     "output_type": "stream",
     "text": [
      "[0 0 0 ... 7 7 7]\n"
     ]
    }
   ],
   "source": [
    "y = encoder.fit_transform(genre_list)\n",
    "print(y)"
   ]
  },
  {
   "cell_type": "code",
   "execution_count": 9,
   "metadata": {},
   "outputs": [],
   "source": [
    "scaler = StandardScaler()\n",
    "X = scaler.fit_transform(np.array(data.iloc[:, :-1], dtype = float))"
   ]
  },
  {
   "cell_type": "code",
   "execution_count": 10,
   "metadata": {},
   "outputs": [],
   "source": [
    "X_train, X_test, y_train, y_test = train_test_split(X, y, test_size=0.2)"
   ]
  },
  {
   "cell_type": "code",
   "execution_count": 11,
   "metadata": {},
   "outputs": [
    {
     "name": "stderr",
     "output_type": "stream",
     "text": [
      "Using TensorFlow backend.\n"
     ]
    }
   ],
   "source": [
    "import keras\n",
    "from keras import models\n",
    "from keras import layers\n"
   ]
  },
  {
   "cell_type": "code",
   "execution_count": 12,
   "metadata": {},
   "outputs": [
    {
     "name": "stdout",
     "output_type": "stream",
     "text": [
      "WARNING:tensorflow:From c:\\users\\user\\pycharmprojects\\2019-ca400-ferryp2\\project\\lib\\site-packages\\tensorflow\\python\\framework\\op_def_library.py:263: colocate_with (from tensorflow.python.framework.ops) is deprecated and will be removed in a future version.\n",
      "Instructions for updating:\n",
      "Colocations handled automatically by placer.\n"
     ]
    }
   ],
   "source": [
    "model = models.Sequential()\n",
    "model.add(layers.Dense(256, activation='relu', input_shape=(X_train.shape[1],)))\n",
    "\n",
    "model.add(layers.Dense(128, activation='relu'))\n",
    "\n",
    "model.add(layers.Dense(64, activation='relu'))\n",
    "\n",
    "model.add(layers.Dense(10, activation='softmax'))\n",
    "\n",
    "model.compile(optimizer='adam',\n",
    "              loss='sparse_categorical_crossentropy',\n",
    "              metrics=['accuracy'])"
   ]
  },
  {
   "cell_type": "code",
   "execution_count": 14,
   "metadata": {
    "scrolled": true
   },
   "outputs": [
    {
     "name": "stdout",
     "output_type": "stream",
     "text": [
      "Epoch 1/10\n",
      "17438/17438 [==============================] - 0s 27us/step - loss: 0.3835 - acc: 0.8643\n",
      "Epoch 2/10\n",
      "17438/17438 [==============================] - 0s 20us/step - loss: 0.3728 - acc: 0.8691\n",
      "Epoch 3/10\n",
      "17438/17438 [==============================] - 0s 19us/step - loss: 0.3608 - acc: 0.8719\n",
      "Epoch 4/10\n",
      "17438/17438 [==============================] - 0s 22us/step - loss: 0.3444 - acc: 0.8796\n",
      "Epoch 5/10\n",
      "17438/17438 [==============================] - 0s 20us/step - loss: 0.3340 - acc: 0.8812\n",
      "Epoch 6/10\n",
      "17438/17438 [==============================] - 0s 19us/step - loss: 0.3196 - acc: 0.8905\n",
      "Epoch 7/10\n",
      "17438/17438 [==============================] - 0s 23us/step - loss: 0.3076 - acc: 0.8923\n",
      "Epoch 8/10\n",
      "17438/17438 [==============================] - 0s 26us/step - loss: 0.2993 - acc: 0.8935\n",
      "Epoch 9/10\n",
      "17438/17438 [==============================] - 0s 24us/step - loss: 0.2941 - acc: 0.8972\n",
      "Epoch 10/10\n",
      "17438/17438 [==============================] - 0s 25us/step - loss: 0.2853 - acc: 0.8987\n"
     ]
    }
   ],
   "source": [
    "history = model.fit(X_train,\n",
    "                    y_train,\n",
    "                    epochs=10,\n",
    "                    batch_size=128)"
   ]
  },
  {
   "cell_type": "code",
   "execution_count": 15,
   "metadata": {},
   "outputs": [
    {
     "name": "stdout",
     "output_type": "stream",
     "text": [
      "4360/4360 [==============================] - 0s 38us/step\n",
      "test_acc:  0.8619266055045871\n"
     ]
    }
   ],
   "source": [
    "test_loss, test_acc = model.evaluate(X_test,y_test)\n",
    "print('test_acc: ',test_acc)\n"
   ]
  },
  {
   "cell_type": "code",
   "execution_count": 1899,
   "metadata": {},
   "outputs": [],
   "source": [
    "pp = X_test[4]\n",
    "qq = y_test[4]"
   ]
  },
  {
   "cell_type": "code",
   "execution_count": 1901,
   "metadata": {},
   "outputs": [
    {
     "data": {
      "text/plain": [
       "array([ 0.18781988,  0.20288142, -1.18898722, -1.13899211, -1.42246204,\n",
       "       -1.01882222, -0.24785489,  0.66728939,  1.03053992,  0.76106121,\n",
       "        1.04206064,  0.6012728 ,  0.91796121,  0.54675949,  0.7813259 ,\n",
       "        0.3069026 ,  0.55404046, -0.05247166,  0.3912065 ,  0.10919258,\n",
       "        0.69200098,  0.27339466,  0.73803199,  0.29647445,  0.82429434,\n",
       "        0.20828077])"
      ]
     },
     "execution_count": 1901,
     "metadata": {},
     "output_type": "execute_result"
    }
   ],
   "source": [
    "pp"
   ]
  },
  {
   "cell_type": "code",
   "execution_count": 17,
   "metadata": {},
   "outputs": [
    {
     "data": {
      "text/plain": [
       "3"
      ]
     },
     "execution_count": 17,
     "metadata": {},
     "output_type": "execute_result"
    }
   ],
   "source": [
    "predictions = model.predict(X_test)\n",
    "np.argmax(predictions[0])"
   ]
  },
  {
   "cell_type": "code",
   "execution_count": 76,
   "metadata": {},
   "outputs": [
    {
     "data": {
      "text/plain": [
       "(4360, 26)"
      ]
     },
     "execution_count": 76,
     "metadata": {},
     "output_type": "execute_result"
    }
   ],
   "source": [
    "X_test.shape"
   ]
  },
  {
   "cell_type": "code",
   "execution_count": 14,
   "metadata": {},
   "outputs": [],
   "source": [
    "i = 10\n",
    "pp = np.array(data.loc[i, :])[:-1]"
   ]
  },
  {
   "cell_type": "code",
   "execution_count": 1925,
   "metadata": {
    "scrolled": true
   },
   "outputs": [
    {
     "data": {
      "text/plain": [
       "'Tom'"
      ]
     },
     "execution_count": 1925,
     "metadata": {},
     "output_type": "execute_result"
    }
   ],
   "source": [
    "data.loc[i,][-1]"
   ]
  },
  {
   "cell_type": "code",
   "execution_count": 26,
   "metadata": {},
   "outputs": [
    {
     "ename": "NameError",
     "evalue": "name 'qq' is not defined",
     "output_type": "error",
     "traceback": [
      "\u001b[1;31m---------------------------------------------------------------------------\u001b[0m",
      "\u001b[1;31mNameError\u001b[0m                                 Traceback (most recent call last)",
      "\u001b[1;32m<ipython-input-26-90eb7d84d956>\u001b[0m in \u001b[0;36m<module>\u001b[1;34m\u001b[0m\n\u001b[0;32m      1\u001b[0m \u001b[0mq\u001b[0m \u001b[1;33m=\u001b[0m \u001b[0mmodel\u001b[0m\u001b[1;33m.\u001b[0m\u001b[0mpredict\u001b[0m\u001b[1;33m(\u001b[0m \u001b[0mnp\u001b[0m\u001b[1;33m.\u001b[0m\u001b[0marray\u001b[0m\u001b[1;33m(\u001b[0m \u001b[1;33m[\u001b[0m\u001b[0mpp\u001b[0m\u001b[1;33m,\u001b[0m\u001b[1;33m]\u001b[0m \u001b[1;33m)\u001b[0m  \u001b[1;33m)\u001b[0m\u001b[1;33m\u001b[0m\u001b[1;33m\u001b[0m\u001b[0m\n\u001b[1;32m----> 2\u001b[1;33m \u001b[0mprint\u001b[0m\u001b[1;33m(\u001b[0m\u001b[0mnp\u001b[0m\u001b[1;33m.\u001b[0m\u001b[0margmax\u001b[0m\u001b[1;33m(\u001b[0m\u001b[0mq\u001b[0m\u001b[1;33m[\u001b[0m\u001b[1;36m0\u001b[0m\u001b[1;33m]\u001b[0m\u001b[1;33m)\u001b[0m\u001b[1;33m,\u001b[0m \u001b[0mqq\u001b[0m\u001b[1;33m)\u001b[0m\u001b[1;33m\u001b[0m\u001b[1;33m\u001b[0m\u001b[0m\n\u001b[0m",
      "\u001b[1;31mNameError\u001b[0m: name 'qq' is not defined"
     ]
    }
   ],
   "source": [
    "q = model.predict( np.array( [pp,] )  )\n",
    "print(np.argmax(q[0]), qq)\n"
   ]
  },
  {
   "cell_type": "code",
   "execution_count": 1920,
   "metadata": {},
   "outputs": [
    {
     "data": {
      "text/plain": [
       "array([0.664380889947673, 0.033183366060256965, 673.3654229870945,\n",
       "       1595.9312613189481, 1172.9262408088236, 0.007525275735294119,\n",
       "       -525.5414732833883, 39.09388487896712, 22.395787706170445,\n",
       "       22.342520935939717, 11.89797465312896, 10.130637787519774,\n",
       "       7.888358022436094, 7.321712162531238, 7.226473738928242,\n",
       "       7.007880890992723, 6.781425382577092, 6.422900417512118,\n",
       "       4.927550288708329, 3.1661403131621952, 1.4510287352563074,\n",
       "       0.9253916097869704, 0.8597279007576996, 0.8491050152324691,\n",
       "       -1.8815947620225104, -1.82047554913064], dtype=object)"
      ]
     },
     "execution_count": 1920,
     "metadata": {},
     "output_type": "execute_result"
    }
   ],
   "source": [
    "pp"
   ]
  },
  {
   "cell_type": "code",
   "execution_count": 15,
   "metadata": {},
   "outputs": [],
   "source": [
    "ppp=  scaler.transform([pp])"
   ]
  },
  {
   "cell_type": "code",
   "execution_count": 1924,
   "metadata": {
    "scrolled": true
   },
   "outputs": [
    {
     "data": {
      "text/plain": [
       "array([[ 0.90851872, -0.68125912, -1.06033883, -0.52388938, -1.18538927,\n",
       "        -1.02368549, -0.96221848,  0.27736816,  0.46890869,  0.30390475,\n",
       "         0.47295775,  0.01897937,  0.4682299 ,  0.12219306,  0.5712996 ,\n",
       "         0.24794112,  0.70598601,  0.36597173,  0.65352342, -0.00206112,\n",
       "         0.18238242, -0.39853939,  0.20994969, -0.27237724, -0.20938923,\n",
       "        -0.79803732]])"
      ]
     },
     "execution_count": 1924,
     "metadata": {},
     "output_type": "execute_result"
    }
   ],
   "source": [
    "ppp"
   ]
  },
  {
   "cell_type": "code",
   "execution_count": 23,
   "metadata": {},
   "outputs": [
    {
     "data": {
      "text/plain": [
       "array([[0.05735714, 0.10420804, 0.1118946 , 0.09430208, 0.0828217 ,\n",
       "        0.08246987, 0.13800836, 0.11784419, 0.11214568, 0.09894826]],\n",
       "      dtype=float32)"
      ]
     },
     "execution_count": 23,
     "metadata": {},
     "output_type": "execute_result"
    }
   ],
   "source": [
    "q\n"
   ]
  },
  {
   "cell_type": "code",
   "execution_count": 30,
   "metadata": {},
   "outputs": [
    {
     "data": {
      "text/plain": [
       "2"
      ]
     },
     "execution_count": 30,
     "metadata": {},
     "output_type": "execute_result"
    }
   ],
   "source": [
    "pp = np.array(data.loc[7600, :])[:-1]\n",
    "ppp=  scaler.transform([pp])\n",
    "q = model.predict_proba( ppp )\n",
    "np.argmax(q[0])"
   ]
  },
  {
   "cell_type": "code",
   "execution_count": 31,
   "metadata": {},
   "outputs": [],
   "source": [
    "c = {0: \"Clap\",\n",
    "     1: \"ClosedHat\",\n",
    "     2: \"Crash\",\n",
    "     3: \"Kick\",\n",
    "     4: \"OpenHat\",\n",
    "     5: \"Ride\",\n",
    "     6: \"Snare\",\n",
    "     7: \"Tom\"}"
   ]
  },
  {
   "cell_type": "code",
   "execution_count": 32,
   "metadata": {},
   "outputs": [
    {
     "data": {
      "image/png": "[encoded data removed]",
      "text/plain": [
       "<Figure size 432x288 with 1 Axes>"
      ]
     },
     "metadata": {
      "needs_background": "light"
     },
     "output_type": "display_data"
    }
   ],
   "source": [
    "plt.plot(q[0])\n",
    "plt.show()"
   ]
  },
  {
   "cell_type": "code",
   "execution_count": 16,
   "metadata": {},
   "outputs": [],
   "source": [
    "from keras.models import load_model"
   ]
  },
  {
   "cell_type": "code",
   "execution_count": 17,
   "metadata": {},
   "outputs": [],
   "source": [
    "model.save('drum_model2.h5')"
   ]
  },
  {
   "cell_type": "code",
   "execution_count": 1935,
   "metadata": {},
   "outputs": [
    {
     "data": {
      "text/plain": [
       "array([ 5.33531550e-01,  1.02728171e-01,  2.94393148e+03,  2.02118890e+03,\n",
       "        4.96737514e+03,  1.85446747e-01, -3.69993012e+02,  2.08221208e+01,\n",
       "        5.62234611e+00,  1.54912743e+01,  2.16237948e+00,  9.86794700e+00,\n",
       "        1.09400785e+00,  6.00152333e+00,  1.09037008e+00,  4.99338286e+00,\n",
       "        7.24328280e-01,  3.94341928e+00,  4.20984287e-02,  3.17872873e+00,\n",
       "        2.74627425e-01,  3.13753161e+00, -3.41061943e-01,  2.20688790e+00,\n",
       "       -7.62373183e-01,  1.93493977e+00])"
      ]
     },
     "execution_count": 1935,
     "metadata": {},
     "output_type": "execute_result"
    }
   ],
   "source": [
    "# # returns a compiled model\n",
    "# # identical to the previous one\n",
    "# model = load_model('my_model.h5')"
   ]
  },
  {
   "cell_type": "code",
   "execution_count": 1936,
   "metadata": {},
   "outputs": [],
   "source": [
    "from sklearn.externals import joblib\n"
   ]
  },
  {
   "cell_type": "code",
   "execution_count": 1937,
   "metadata": {},
   "outputs": [],
   "source": [
    "scaler_filename = \"scaler.save\""
   ]
  },
  {
   "cell_type": "code",
   "execution_count": 1938,
   "metadata": {},
   "outputs": [
    {
     "data": {
      "text/plain": [
       "['scaler.save']"
      ]
     },
     "execution_count": 1938,
     "metadata": {},
     "output_type": "execute_result"
    }
   ],
   "source": [
    "joblib.dump(scaler, scaler_filename)\n",
    "# scaler = joblib.load(scaler_filename) "
   ]
  },
  {
   "cell_type": "code",
   "execution_count": 46,
   "metadata": {},
   "outputs": [
    {
     "name": "stdout",
     "output_type": "stream",
     "text": [
      "_________________________________________________________________\n",
      "Layer (type)                 Output Shape              Param #   \n",
      "=================================================================\n",
      "dense_1 (Dense)              (None, 256)               6912      \n",
      "_________________________________________________________________\n",
      "dense_2 (Dense)              (None, 128)               32896     \n",
      "_________________________________________________________________\n",
      "dense_3 (Dense)              (None, 64)                8256      \n",
      "_________________________________________________________________\n",
      "dense_4 (Dense)              (None, 10)                650       \n",
      "=================================================================\n",
      "Total params: 48,714\n",
      "Trainable params: 48,714\n",
      "Non-trainable params: 0\n",
      "_________________________________________________________________\n"
     ]
    }
   ],
   "source": [
    "model.summary()"
   ]
  },
  {
   "cell_type": "code",
   "execution_count": 24,
   "metadata": {},
   "outputs": [],
   "source": [
    "import librosa\n",
    "from IPython.display import Audio"
   ]
  },
  {
   "cell_type": "code",
   "execution_count": 50,
   "metadata": {},
   "outputs": [],
   "source": [
    "song, sr = librosa.load(\"../Songs/drumbeat1.wav\")"
   ]
  },
  {
   "cell_type": "code",
   "execution_count": 51,
   "metadata": {},
   "outputs": [
    {
     "data": {
      "text/plain": [
       "22050"
      ]
     },
     "execution_count": 51,
     "metadata": {},
     "output_type": "execute_result"
    }
   ],
   "source": [
    "sr"
   ]
  },
  {
   "cell_type": "code",
   "execution_count": 52,
   "metadata": {},
   "outputs": [],
   "source": [
    "song = song[2*sr:3*sr]"
   ]
  },
  {
   "cell_type": "code",
   "execution_count": 57,
   "metadata": {},
   "outputs": [
    {
     "data": {
      "text/html": [
       "\n",
       "                <audio controls=\"controls\" >\n",
       "                    <source src=\"data:audio/wav;base64,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\" type=\"audio/wav\" />\n",
       "                    Your browser does not support the audio element.\n",
       "                </audio>\n",
       "              "
      ],
      "text/plain": [
       "<IPython.lib.display.Audio object>"
      ]
     },
     "execution_count": 57,
     "metadata": {},
     "output_type": "execute_result"
    }
   ],
   "source": [
    "Audio(song, rate=sr)"
   ]
  },
  {
   "cell_type": "code",
   "execution_count": 56,
   "metadata": {},
   "outputs": [],
   "source": [
    "song = song[int(len(song)/2):]"
   ]
  },
  {
   "cell_type": "code",
   "execution_count": null,
   "metadata": {},
   "outputs": [],
   "source": []
  }
 ],
 "metadata": {
  "kernelspec": {
   "display_name": "Python 3",
   "language": "python",
   "name": "python3"
  },
  "language_info": {
   "codemirror_mode": {
    "name": "ipython",
    "version": 3
   },
   "file_extension": ".py",
   "mimetype": "text/x-python",
   "name": "python",
   "nbconvert_exporter": "python",
   "pygments_lexer": "ipython3",
   "version": "3.7.0"
  }
 },
 "nbformat": 4,
 "nbformat_minor": 2
}
